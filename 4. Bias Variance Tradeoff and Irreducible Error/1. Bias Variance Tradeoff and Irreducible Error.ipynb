{
 "cells": [
  {
   "cell_type": "code",
   "execution_count": 10,
   "metadata": {},
   "outputs": [
    {
     "name": "stderr",
     "output_type": "stream",
     "text": [
      "D:\\Anaconda3\\lib\\importlib\\_bootstrap.py:219: RuntimeWarning: numpy.ufunc size changed, may indicate binary incompatibility. Expected 192 from C header, got 216 from PyObject\n",
      "  return f(*args, **kwds)\n"
     ]
    }
   ],
   "source": [
    "import pandas as pd \n",
    "import numpy as np \n",
    "import seaborn as sns\n",
    "import matplotlib.pyplot as plt \n",
    "import io "
   ]
  },
  {
   "cell_type": "code",
   "execution_count": 11,
   "metadata": {},
   "outputs": [],
   "source": [
    "dataset = pd.read_csv('F:/Data_Set/cancer_datasets.csv') "
   ]
  },
  {
   "cell_type": "code",
   "execution_count": 12,
   "metadata": {},
   "outputs": [
    {
     "data": {
      "text/html": [
       "<div>\n",
       "<style scoped>\n",
       "    .dataframe tbody tr th:only-of-type {\n",
       "        vertical-align: middle;\n",
       "    }\n",
       "\n",
       "    .dataframe tbody tr th {\n",
       "        vertical-align: top;\n",
       "    }\n",
       "\n",
       "    .dataframe thead th {\n",
       "        text-align: right;\n",
       "    }\n",
       "</style>\n",
       "<table border=\"1\" class=\"dataframe\">\n",
       "  <thead>\n",
       "    <tr style=\"text-align: right;\">\n",
       "      <th></th>\n",
       "      <th>id</th>\n",
       "      <th>diagnosis</th>\n",
       "      <th>radius_mean</th>\n",
       "      <th>texture_mean</th>\n",
       "      <th>perimeter_mean</th>\n",
       "      <th>area_mean</th>\n",
       "      <th>smoothness_mean</th>\n",
       "      <th>compactness_mean</th>\n",
       "      <th>concavity_mean</th>\n",
       "      <th>concave points_mean</th>\n",
       "      <th>symmetry_mean</th>\n",
       "      <th>fractal_dimension_mean</th>\n",
       "      <th>radius_se</th>\n",
       "      <th>texture_se</th>\n",
       "      <th>perimeter_se</th>\n",
       "      <th>area_se</th>\n",
       "      <th>smoothness_se</th>\n",
       "      <th>compactness_se</th>\n",
       "      <th>concavity_se</th>\n",
       "      <th>concave points_se</th>\n",
       "      <th>symmetry_se</th>\n",
       "      <th>fractal_dimension_se</th>\n",
       "      <th>radius_worst</th>\n",
       "      <th>texture_worst</th>\n",
       "      <th>perimeter_worst</th>\n",
       "      <th>area_worst</th>\n",
       "      <th>smoothness_worst</th>\n",
       "      <th>compactness_worst</th>\n",
       "      <th>concavity_worst</th>\n",
       "      <th>concave points_worst</th>\n",
       "      <th>symmetry_worst</th>\n",
       "      <th>fractal_dimension_worst</th>\n",
       "      <th>Unnamed: 32</th>\n",
       "    </tr>\n",
       "  </thead>\n",
       "  <tbody>\n",
       "    <tr>\n",
       "      <th>0</th>\n",
       "      <td>842302</td>\n",
       "      <td>M</td>\n",
       "      <td>17.99</td>\n",
       "      <td>10.38</td>\n",
       "      <td>122.80</td>\n",
       "      <td>1001.0</td>\n",
       "      <td>0.11840</td>\n",
       "      <td>0.27760</td>\n",
       "      <td>0.3001</td>\n",
       "      <td>0.14710</td>\n",
       "      <td>0.2419</td>\n",
       "      <td>0.07871</td>\n",
       "      <td>1.0950</td>\n",
       "      <td>0.9053</td>\n",
       "      <td>8.589</td>\n",
       "      <td>153.40</td>\n",
       "      <td>0.006399</td>\n",
       "      <td>0.04904</td>\n",
       "      <td>0.05373</td>\n",
       "      <td>0.01587</td>\n",
       "      <td>0.03003</td>\n",
       "      <td>0.006193</td>\n",
       "      <td>25.38</td>\n",
       "      <td>17.33</td>\n",
       "      <td>184.60</td>\n",
       "      <td>2019.0</td>\n",
       "      <td>0.1622</td>\n",
       "      <td>0.6656</td>\n",
       "      <td>0.7119</td>\n",
       "      <td>0.2654</td>\n",
       "      <td>0.4601</td>\n",
       "      <td>0.11890</td>\n",
       "      <td>NaN</td>\n",
       "    </tr>\n",
       "    <tr>\n",
       "      <th>1</th>\n",
       "      <td>842517</td>\n",
       "      <td>M</td>\n",
       "      <td>20.57</td>\n",
       "      <td>17.77</td>\n",
       "      <td>132.90</td>\n",
       "      <td>1326.0</td>\n",
       "      <td>0.08474</td>\n",
       "      <td>0.07864</td>\n",
       "      <td>0.0869</td>\n",
       "      <td>0.07017</td>\n",
       "      <td>0.1812</td>\n",
       "      <td>0.05667</td>\n",
       "      <td>0.5435</td>\n",
       "      <td>0.7339</td>\n",
       "      <td>3.398</td>\n",
       "      <td>74.08</td>\n",
       "      <td>0.005225</td>\n",
       "      <td>0.01308</td>\n",
       "      <td>0.01860</td>\n",
       "      <td>0.01340</td>\n",
       "      <td>0.01389</td>\n",
       "      <td>0.003532</td>\n",
       "      <td>24.99</td>\n",
       "      <td>23.41</td>\n",
       "      <td>158.80</td>\n",
       "      <td>1956.0</td>\n",
       "      <td>0.1238</td>\n",
       "      <td>0.1866</td>\n",
       "      <td>0.2416</td>\n",
       "      <td>0.1860</td>\n",
       "      <td>0.2750</td>\n",
       "      <td>0.08902</td>\n",
       "      <td>NaN</td>\n",
       "    </tr>\n",
       "    <tr>\n",
       "      <th>2</th>\n",
       "      <td>84300903</td>\n",
       "      <td>M</td>\n",
       "      <td>19.69</td>\n",
       "      <td>21.25</td>\n",
       "      <td>130.00</td>\n",
       "      <td>1203.0</td>\n",
       "      <td>0.10960</td>\n",
       "      <td>0.15990</td>\n",
       "      <td>0.1974</td>\n",
       "      <td>0.12790</td>\n",
       "      <td>0.2069</td>\n",
       "      <td>0.05999</td>\n",
       "      <td>0.7456</td>\n",
       "      <td>0.7869</td>\n",
       "      <td>4.585</td>\n",
       "      <td>94.03</td>\n",
       "      <td>0.006150</td>\n",
       "      <td>0.04006</td>\n",
       "      <td>0.03832</td>\n",
       "      <td>0.02058</td>\n",
       "      <td>0.02250</td>\n",
       "      <td>0.004571</td>\n",
       "      <td>23.57</td>\n",
       "      <td>25.53</td>\n",
       "      <td>152.50</td>\n",
       "      <td>1709.0</td>\n",
       "      <td>0.1444</td>\n",
       "      <td>0.4245</td>\n",
       "      <td>0.4504</td>\n",
       "      <td>0.2430</td>\n",
       "      <td>0.3613</td>\n",
       "      <td>0.08758</td>\n",
       "      <td>NaN</td>\n",
       "    </tr>\n",
       "    <tr>\n",
       "      <th>3</th>\n",
       "      <td>84348301</td>\n",
       "      <td>M</td>\n",
       "      <td>11.42</td>\n",
       "      <td>20.38</td>\n",
       "      <td>77.58</td>\n",
       "      <td>386.1</td>\n",
       "      <td>0.14250</td>\n",
       "      <td>0.28390</td>\n",
       "      <td>0.2414</td>\n",
       "      <td>0.10520</td>\n",
       "      <td>0.2597</td>\n",
       "      <td>0.09744</td>\n",
       "      <td>0.4956</td>\n",
       "      <td>1.1560</td>\n",
       "      <td>3.445</td>\n",
       "      <td>27.23</td>\n",
       "      <td>0.009110</td>\n",
       "      <td>0.07458</td>\n",
       "      <td>0.05661</td>\n",
       "      <td>0.01867</td>\n",
       "      <td>0.05963</td>\n",
       "      <td>0.009208</td>\n",
       "      <td>14.91</td>\n",
       "      <td>26.50</td>\n",
       "      <td>98.87</td>\n",
       "      <td>567.7</td>\n",
       "      <td>0.2098</td>\n",
       "      <td>0.8663</td>\n",
       "      <td>0.6869</td>\n",
       "      <td>0.2575</td>\n",
       "      <td>0.6638</td>\n",
       "      <td>0.17300</td>\n",
       "      <td>NaN</td>\n",
       "    </tr>\n",
       "    <tr>\n",
       "      <th>4</th>\n",
       "      <td>84358402</td>\n",
       "      <td>M</td>\n",
       "      <td>20.29</td>\n",
       "      <td>14.34</td>\n",
       "      <td>135.10</td>\n",
       "      <td>1297.0</td>\n",
       "      <td>0.10030</td>\n",
       "      <td>0.13280</td>\n",
       "      <td>0.1980</td>\n",
       "      <td>0.10430</td>\n",
       "      <td>0.1809</td>\n",
       "      <td>0.05883</td>\n",
       "      <td>0.7572</td>\n",
       "      <td>0.7813</td>\n",
       "      <td>5.438</td>\n",
       "      <td>94.44</td>\n",
       "      <td>0.011490</td>\n",
       "      <td>0.02461</td>\n",
       "      <td>0.05688</td>\n",
       "      <td>0.01885</td>\n",
       "      <td>0.01756</td>\n",
       "      <td>0.005115</td>\n",
       "      <td>22.54</td>\n",
       "      <td>16.67</td>\n",
       "      <td>152.20</td>\n",
       "      <td>1575.0</td>\n",
       "      <td>0.1374</td>\n",
       "      <td>0.2050</td>\n",
       "      <td>0.4000</td>\n",
       "      <td>0.1625</td>\n",
       "      <td>0.2364</td>\n",
       "      <td>0.07678</td>\n",
       "      <td>NaN</td>\n",
       "    </tr>\n",
       "  </tbody>\n",
       "</table>\n",
       "</div>"
      ],
      "text/plain": [
       "         id diagnosis  radius_mean  ...  symmetry_worst  fractal_dimension_worst  Unnamed: 32\n",
       "0    842302         M        17.99  ...          0.4601                  0.11890          NaN\n",
       "1    842517         M        20.57  ...          0.2750                  0.08902          NaN\n",
       "2  84300903         M        19.69  ...          0.3613                  0.08758          NaN\n",
       "3  84348301         M        11.42  ...          0.6638                  0.17300          NaN\n",
       "4  84358402         M        20.29  ...          0.2364                  0.07678          NaN\n",
       "\n",
       "[5 rows x 33 columns]"
      ]
     },
     "execution_count": 12,
     "metadata": {},
     "output_type": "execute_result"
    }
   ],
   "source": [
    "dataset.head() "
   ]
  },
  {
   "cell_type": "code",
   "execution_count": 13,
   "metadata": {
    "scrolled": true
   },
   "outputs": [
    {
     "data": {
      "text/plain": [
       "(569, 33)"
      ]
     },
     "execution_count": 13,
     "metadata": {},
     "output_type": "execute_result"
    }
   ],
   "source": [
    "dataset.shape "
   ]
  },
  {
   "cell_type": "markdown",
   "metadata": {},
   "source": [
    "#### Divide the data into dependent and independent variables"
   ]
  },
  {
   "cell_type": "code",
   "execution_count": 14,
   "metadata": {},
   "outputs": [],
   "source": [
    "x = dataset.drop(labels=['id','diagnosis','Unnamed: 32'],axis=1) \n",
    "#x = dataset.iloc[:,2:33].values\n",
    "#print(x) "
   ]
  },
  {
   "cell_type": "code",
   "execution_count": 16,
   "metadata": {},
   "outputs": [],
   "source": [
    "y = dataset['diagnosis'] \n",
    "#y = dataset.iloc[:,1].values \n",
    "#print(y) "
   ]
  },
  {
   "cell_type": "markdown",
   "metadata": {},
   "source": [
    "Encoding Categorical data of Y"
   ]
  },
  {
   "cell_type": "code",
   "execution_count": 17,
   "metadata": {},
   "outputs": [],
   "source": [
    "from sklearn.preprocessing import LabelEncoder "
   ]
  },
  {
   "cell_type": "code",
   "execution_count": 18,
   "metadata": {},
   "outputs": [],
   "source": [
    "le = LabelEncoder() \n",
    "\n",
    "y =  le.fit_transform(y)\n",
    "\n",
    "#print(y) "
   ]
  },
  {
   "cell_type": "markdown",
   "metadata": {},
   "source": [
    "#### To see the Quantity of Benign and Malignanat graphically"
   ]
  },
  {
   "cell_type": "code",
   "execution_count": 29,
   "metadata": {},
   "outputs": [
    {
     "name": "stdout",
     "output_type": "stream",
     "text": [
      "Benign 357\n",
      "Malignanat 212\n"
     ]
    },
    {
     "data": {
      "image/png": "[encoded data removed]",
      "text/plain": [
       "<Figure size 432x288 with 1 Axes>"
      ]
     },
     "metadata": {
      "needs_background": "light"
     },
     "output_type": "display_data"
    }
   ],
   "source": [
    "ax = sns.countplot(dataset['diagnosis'],label = 'count')  \n",
    "B,M = dataset['diagnosis'].value_counts()\n",
    "print('Benign',B) \n",
    "print('Malignanat',M) "
   ]
  },
  {
   "cell_type": "markdown",
   "metadata": {},
   "source": [
    "#### Split the dataset into traning and testing dataset"
   ]
  },
  {
   "cell_type": "code",
   "execution_count": 19,
   "metadata": {},
   "outputs": [],
   "source": [
    "from sklearn.model_selection import train_test_split\n",
    "\n",
    "x_train,x_test,y_train,y_test = train_test_split(x,y,test_size=0.2,random_state=0) "
   ]
  },
  {
   "cell_type": "markdown",
   "metadata": {},
   "source": [
    "#### Feature scaling"
   ]
  },
  {
   "cell_type": "code",
   "execution_count": 20,
   "metadata": {},
   "outputs": [],
   "source": [
    "from sklearn.preprocessing import StandardScaler\n",
    "\n",
    "scaler = StandardScaler()\n",
    "x_train = scaler.fit_transform(x_train) \n",
    "x_test = scaler.fit_transform(x_test)  "
   ]
  },
  {
   "cell_type": "code",
   "execution_count": 21,
   "metadata": {},
   "outputs": [
    {
     "data": {
      "text/plain": [
       "array([[-1.15036482, -0.39064196, -1.12855021, ..., -0.75798367,\n",
       "        -0.01614761, -0.38503402],\n",
       "       [-0.93798972,  0.68051405, -0.94820146, ..., -0.60687023,\n",
       "         0.09669004, -0.38615797],\n",
       "       [ 0.574121  , -1.03333557,  0.51394098, ..., -0.02371948,\n",
       "        -0.20050207, -0.75144254],\n",
       "       ...,\n",
       "       [-1.32422924, -0.20048168, -1.31754581, ..., -0.97974953,\n",
       "        -0.71542314, -0.11978123],\n",
       "       [-1.24380987, -0.2245526 , -1.28007609, ..., -1.75401433,\n",
       "        -1.58157125, -1.00601779],\n",
       "       [-0.73694129,  1.14989702, -0.71226578, ..., -0.27460457,\n",
       "        -1.25895095,  0.21515662]])"
      ]
     },
     "execution_count": 21,
     "metadata": {},
     "output_type": "execute_result"
    }
   ],
   "source": [
    "x_train "
   ]
  },
  {
   "cell_type": "code",
   "execution_count": 22,
   "metadata": {},
   "outputs": [
    {
     "data": {
      "text/plain": [
       "array([[-0.22609091,  0.14299357, -0.16219992, ...,  1.33438591,\n",
       "         1.22101459,  1.32977555],\n",
       "       [-0.28072076,  1.13113906, -0.34954245, ..., -0.81952682,\n",
       "        -0.77541863, -0.94570364],\n",
       "       [-0.04782508, -0.87231025, -0.12299829, ..., -0.49120548,\n",
       "        -1.31433312, -0.98696059],\n",
       "       ...,\n",
       "       [ 1.7233322 , -0.06173848,  1.70132185, ...,  1.51554921,\n",
       "         0.25341812, -0.26496405],\n",
       "       [ 1.18565945,  0.15552818,  1.16487847, ...,  0.53103066,\n",
       "         0.32690646, -0.37709831],\n",
       "       [ 0.24545096, -0.64668718,  0.25416267, ..., -0.19956228,\n",
       "        -1.2425945 , -0.01424877]])"
      ]
     },
     "execution_count": 22,
     "metadata": {},
     "output_type": "execute_result"
    }
   ],
   "source": [
    "x_test "
   ]
  },
  {
   "cell_type": "markdown",
   "metadata": {},
   "source": [
    "#### Build ANN Model"
   ]
  },
  {
   "cell_type": "code",
   "execution_count": 23,
   "metadata": {},
   "outputs": [],
   "source": [
    "from tensorflow import keras\n",
    "from keras.models import Sequential \n",
    "from keras.layers import Dense "
   ]
  },
  {
   "cell_type": "code",
   "execution_count": 24,
   "metadata": {},
   "outputs": [],
   "source": [
    "model = Sequential() "
   ]
  },
  {
   "cell_type": "markdown",
   "metadata": {},
   "source": [
    "Create First input Layer"
   ]
  },
  {
   "cell_type": "code",
   "execution_count": 25,
   "metadata": {},
   "outputs": [
    {
     "name": "stderr",
     "output_type": "stream",
     "text": [
      "D:\\Anaconda3\\lib\\site-packages\\ipykernel_launcher.py:1: UserWarning: Update your `Dense` call to the Keras 2 API: `Dense(activation=\"relu\", input_dim=30, units=16, kernel_initializer=\"uniform\")`\n",
      "  \"\"\"Entry point for launching an IPython kernel.\n"
     ]
    }
   ],
   "source": [
    "model.add(Dense(output_dim=16,init='uniform',activation='relu',input_dim=30)) "
   ]
  },
  {
   "cell_type": "markdown",
   "metadata": {},
   "source": [
    "Adding the Second Layer"
   ]
  },
  {
   "cell_type": "code",
   "execution_count": 27,
   "metadata": {},
   "outputs": [
    {
     "name": "stderr",
     "output_type": "stream",
     "text": [
      "D:\\Anaconda3\\lib\\site-packages\\ipykernel_launcher.py:1: UserWarning: Update your `Dense` call to the Keras 2 API: `Dense(activation=\"relu\", units=16, kernel_initializer=\"uniform\")`\n",
      "  \"\"\"Entry point for launching an IPython kernel.\n"
     ]
    }
   ],
   "source": [
    "model.add(Dense(output_dim=16,init='uniform',activation='relu')) "
   ]
  },
  {
   "cell_type": "markdown",
   "metadata": {},
   "source": [
    "Adding the Output Layer"
   ]
  },
  {
   "cell_type": "code",
   "execution_count": 28,
   "metadata": {},
   "outputs": [
    {
     "name": "stderr",
     "output_type": "stream",
     "text": [
      "D:\\Anaconda3\\lib\\site-packages\\ipykernel_launcher.py:1: UserWarning: Update your `Dense` call to the Keras 2 API: `Dense(activation=\"sigmoid\", units=1, kernel_initializer=\"uniform\")`\n",
      "  \"\"\"Entry point for launching an IPython kernel.\n"
     ]
    }
   ],
   "source": [
    "model.add(Dense(output_dim = 1,init='uniform',activation='sigmoid')) "
   ]
  },
  {
   "cell_type": "markdown",
   "metadata": {},
   "source": [
    "#### Compile Our ANN Module"
   ]
  },
  {
   "cell_type": "code",
   "execution_count": 29,
   "metadata": {},
   "outputs": [],
   "source": [
    "model.compile(optimizer='Adam',loss='binary_crossentropy',metrics=['accuracy']) "
   ]
  },
  {
   "cell_type": "markdown",
   "metadata": {},
   "source": [
    "#### Traning and Testing of Model with epoch"
   ]
  },
  {
   "cell_type": "code",
   "execution_count": 30,
   "metadata": {},
   "outputs": [
    {
     "name": "stderr",
     "output_type": "stream",
     "text": [
      "D:\\Anaconda3\\lib\\site-packages\\ipykernel_launcher.py:1: UserWarning: The `nb_epoch` argument in `fit` has been renamed `epochs`.\n",
      "  \"\"\"Entry point for launching an IPython kernel.\n"
     ]
    },
    {
     "name": "stdout",
     "output_type": "stream",
     "text": [
      "Epoch 1/150\n",
      "455/455 [==============================] - 0s 465us/step - loss: 0.6928 - accuracy: 0.6374\n",
      "Epoch 2/150\n",
      "455/455 [==============================] - 0s 40us/step - loss: 0.6920 - accuracy: 0.6374\n",
      "Epoch 3/150\n",
      "455/455 [==============================] - 0s 31us/step - loss: 0.6909 - accuracy: 0.6374\n",
      "Epoch 4/150\n",
      "455/455 [==============================] - 0s 46us/step - loss: 0.6896 - accuracy: 0.6374\n",
      "Epoch 5/150\n",
      "455/455 [==============================] - 0s 40us/step - loss: 0.6874 - accuracy: 0.6374\n",
      "Epoch 6/150\n",
      "455/455 [==============================] - 0s 33us/step - loss: 0.6844 - accuracy: 0.6374\n",
      "Epoch 7/150\n",
      "455/455 [==============================] - 0s 29us/step - loss: 0.6796 - accuracy: 0.6374\n",
      "Epoch 8/150\n",
      "455/455 [==============================] - 0s 35us/step - loss: 0.6725 - accuracy: 0.6374\n",
      "Epoch 9/150\n",
      "455/455 [==============================] - 0s 29us/step - loss: 0.6619 - accuracy: 0.6374\n",
      "Epoch 10/150\n",
      "455/455 [==============================] - 0s 31us/step - loss: 0.6466 - accuracy: 0.6374\n",
      "Epoch 11/150\n",
      "455/455 [==============================] - 0s 48us/step - loss: 0.6261 - accuracy: 0.6396\n",
      "Epoch 12/150\n",
      "455/455 [==============================] - 0s 37us/step - loss: 0.5985 - accuracy: 0.6418\n",
      "Epoch 13/150\n",
      "455/455 [==============================] - 0s 29us/step - loss: 0.5628 - accuracy: 0.6835\n",
      "Epoch 14/150\n",
      "455/455 [==============================] - 0s 37us/step - loss: 0.5215 - accuracy: 0.7714\n",
      "Epoch 15/150\n",
      "455/455 [==============================] - ETA: 0s - loss: 0.4687 - accuracy: 0.88 - 0s 44us/step - loss: 0.4755 - accuracy: 0.8593\n",
      "Epoch 16/150\n",
      "455/455 [==============================] - 0s 31us/step - loss: 0.4287 - accuracy: 0.9121\n",
      "Epoch 17/150\n",
      "455/455 [==============================] - 0s 33us/step - loss: 0.3871 - accuracy: 0.9473\n",
      "Epoch 18/150\n",
      "455/455 [==============================] - 0s 44us/step - loss: 0.3497 - accuracy: 0.9582\n",
      "Epoch 19/150\n",
      "455/455 [==============================] - 0s 37us/step - loss: 0.3185 - accuracy: 0.9648\n",
      "Epoch 20/150\n",
      "455/455 [==============================] - 0s 37us/step - loss: 0.2907 - accuracy: 0.9714\n",
      "Epoch 21/150\n",
      "455/455 [==============================] - 0s 37us/step - loss: 0.2652 - accuracy: 0.9758\n",
      "Epoch 22/150\n",
      "455/455 [==============================] - 0s 35us/step - loss: 0.2412 - accuracy: 0.9780\n",
      "Epoch 23/150\n",
      "455/455 [==============================] - 0s 40us/step - loss: 0.2189 - accuracy: 0.9780\n",
      "Epoch 24/150\n",
      "455/455 [==============================] - 0s 33us/step - loss: 0.1970 - accuracy: 0.9780\n",
      "Epoch 25/150\n",
      "455/455 [==============================] - 0s 35us/step - loss: 0.1782 - accuracy: 0.9780\n",
      "Epoch 26/150\n",
      "455/455 [==============================] - 0s 35us/step - loss: 0.1611 - accuracy: 0.9780\n",
      "Epoch 27/150\n",
      "455/455 [==============================] - 0s 33us/step - loss: 0.1458 - accuracy: 0.9802\n",
      "Epoch 28/150\n",
      "455/455 [==============================] - 0s 35us/step - loss: 0.1331 - accuracy: 0.9802\n",
      "Epoch 29/150\n",
      "455/455 [==============================] - 0s 44us/step - loss: 0.1227 - accuracy: 0.9802\n",
      "Epoch 30/150\n",
      "455/455 [==============================] - 0s 31us/step - loss: 0.1135 - accuracy: 0.9802\n",
      "Epoch 31/150\n",
      "455/455 [==============================] - ETA: 0s - loss: 0.1077 - accuracy: 0.98 - 0s 46us/step - loss: 0.1065 - accuracy: 0.9780\n",
      "Epoch 32/150\n",
      "455/455 [==============================] - 0s 37us/step - loss: 0.1005 - accuracy: 0.9780\n",
      "Epoch 33/150\n",
      "455/455 [==============================] - 0s 33us/step - loss: 0.0954 - accuracy: 0.9780\n",
      "Epoch 34/150\n",
      "455/455 [==============================] - 0s 33us/step - loss: 0.0911 - accuracy: 0.9802\n",
      "Epoch 35/150\n",
      "455/455 [==============================] - 0s 37us/step - loss: 0.0875 - accuracy: 0.9802\n",
      "Epoch 36/150\n",
      "455/455 [==============================] - 0s 40us/step - loss: 0.0843 - accuracy: 0.9824\n",
      "Epoch 37/150\n",
      "455/455 [==============================] - 0s 46us/step - loss: 0.0816 - accuracy: 0.9824\n",
      "Epoch 38/150\n",
      "455/455 [==============================] - 0s 33us/step - loss: 0.0791 - accuracy: 0.9824\n",
      "Epoch 39/150\n",
      "455/455 [==============================] - 0s 33us/step - loss: 0.0771 - accuracy: 0.9824\n",
      "Epoch 40/150\n",
      "455/455 [==============================] - 0s 37us/step - loss: 0.0750 - accuracy: 0.9824\n",
      "Epoch 41/150\n",
      "455/455 [==============================] - 0s 40us/step - loss: 0.0730 - accuracy: 0.9824\n",
      "Epoch 42/150\n",
      "455/455 [==============================] - 0s 33us/step - loss: 0.0709 - accuracy: 0.9824\n",
      "Epoch 43/150\n",
      "455/455 [==============================] - 0s 40us/step - loss: 0.0693 - accuracy: 0.9824\n",
      "Epoch 44/150\n",
      "455/455 [==============================] - 0s 33us/step - loss: 0.0674 - accuracy: 0.9868\n",
      "Epoch 45/150\n",
      "455/455 [==============================] - 0s 40us/step - loss: 0.0663 - accuracy: 0.9890\n",
      "Epoch 46/150\n",
      "455/455 [==============================] - 0s 40us/step - loss: 0.0647 - accuracy: 0.9890\n",
      "Epoch 47/150\n",
      "455/455 [==============================] - 0s 40us/step - loss: 0.0635 - accuracy: 0.9890\n",
      "Epoch 48/150\n",
      "455/455 [==============================] - 0s 33us/step - loss: 0.0623 - accuracy: 0.9890\n",
      "Epoch 49/150\n",
      "455/455 [==============================] - 0s 48us/step - loss: 0.0612 - accuracy: 0.9890\n",
      "Epoch 50/150\n",
      "455/455 [==============================] - 0s 35us/step - loss: 0.0602 - accuracy: 0.9890\n",
      "Epoch 51/150\n",
      "455/455 [==============================] - 0s 35us/step - loss: 0.0593 - accuracy: 0.9890\n",
      "Epoch 52/150\n",
      "455/455 [==============================] - 0s 40us/step - loss: 0.0583 - accuracy: 0.9890\n",
      "Epoch 53/150\n",
      "455/455 [==============================] - 0s 44us/step - loss: 0.0575 - accuracy: 0.9890\n",
      "Epoch 54/150\n",
      "455/455 [==============================] - 0s 35us/step - loss: 0.0566 - accuracy: 0.9890\n",
      "Epoch 55/150\n",
      "455/455 [==============================] - 0s 42us/step - loss: 0.0559 - accuracy: 0.9890\n",
      "Epoch 56/150\n",
      "455/455 [==============================] - 0s 33us/step - loss: 0.0551 - accuracy: 0.9890\n",
      "Epoch 57/150\n",
      "455/455 [==============================] - 0s 44us/step - loss: 0.0544 - accuracy: 0.9890\n",
      "Epoch 58/150\n",
      "455/455 [==============================] - 0s 37us/step - loss: 0.0536 - accuracy: 0.9890\n",
      "Epoch 59/150\n",
      "455/455 [==============================] - 0s 40us/step - loss: 0.0530 - accuracy: 0.9890\n",
      "Epoch 60/150\n",
      "455/455 [==============================] - 0s 37us/step - loss: 0.0522 - accuracy: 0.9890\n",
      "Epoch 61/150\n",
      "455/455 [==============================] - 0s 37us/step - loss: 0.0516 - accuracy: 0.9890\n",
      "Epoch 62/150\n",
      "455/455 [==============================] - 0s 37us/step - loss: 0.0509 - accuracy: 0.9890\n",
      "Epoch 63/150\n",
      "455/455 [==============================] - 0s 37us/step - loss: 0.0504 - accuracy: 0.9890\n",
      "Epoch 64/150\n",
      "455/455 [==============================] - 0s 40us/step - loss: 0.0498 - accuracy: 0.9890\n",
      "Epoch 65/150\n",
      "455/455 [==============================] - 0s 37us/step - loss: 0.0493 - accuracy: 0.9890\n",
      "Epoch 66/150\n",
      "455/455 [==============================] - 0s 46us/step - loss: 0.0486 - accuracy: 0.9890\n",
      "Epoch 67/150\n",
      "455/455 [==============================] - 0s 37us/step - loss: 0.0481 - accuracy: 0.9890\n",
      "Epoch 68/150\n",
      "455/455 [==============================] - 0s 42us/step - loss: 0.0476 - accuracy: 0.9890\n",
      "Epoch 69/150\n",
      "455/455 [==============================] - 0s 35us/step - loss: 0.0471 - accuracy: 0.9890\n",
      "Epoch 70/150\n",
      "455/455 [==============================] - 0s 44us/step - loss: 0.0465 - accuracy: 0.9890\n",
      "Epoch 71/150\n",
      "455/455 [==============================] - 0s 37us/step - loss: 0.0460 - accuracy: 0.9890\n",
      "Epoch 72/150\n",
      "455/455 [==============================] - 0s 33us/step - loss: 0.0456 - accuracy: 0.9890\n",
      "Epoch 73/150\n",
      "455/455 [==============================] - 0s 42us/step - loss: 0.0451 - accuracy: 0.9890\n",
      "Epoch 74/150\n",
      "455/455 [==============================] - 0s 31us/step - loss: 0.0446 - accuracy: 0.9890\n",
      "Epoch 75/150\n",
      "455/455 [==============================] - 0s 37us/step - loss: 0.0442 - accuracy: 0.9890\n",
      "Epoch 76/150\n",
      "455/455 [==============================] - 0s 33us/step - loss: 0.0438 - accuracy: 0.9890\n",
      "Epoch 77/150\n",
      "455/455 [==============================] - 0s 40us/step - loss: 0.0433 - accuracy: 0.9912\n",
      "Epoch 78/150\n",
      "455/455 [==============================] - 0s 33us/step - loss: 0.0429 - accuracy: 0.9912\n",
      "Epoch 79/150\n",
      "455/455 [==============================] - 0s 33us/step - loss: 0.0425 - accuracy: 0.9912\n",
      "Epoch 80/150\n",
      "455/455 [==============================] - 0s 33us/step - loss: 0.0421 - accuracy: 0.9912\n",
      "Epoch 81/150\n",
      "455/455 [==============================] - 0s 42us/step - loss: 0.0416 - accuracy: 0.9912\n",
      "Epoch 82/150\n",
      "455/455 [==============================] - 0s 42us/step - loss: 0.0412 - accuracy: 0.9912\n",
      "Epoch 83/150\n",
      "455/455 [==============================] - 0s 42us/step - loss: 0.0409 - accuracy: 0.9912\n",
      "Epoch 84/150\n",
      "455/455 [==============================] - 0s 35us/step - loss: 0.0403 - accuracy: 0.9912\n",
      "Epoch 85/150\n",
      "455/455 [==============================] - 0s 35us/step - loss: 0.0400 - accuracy: 0.9912\n",
      "Epoch 86/150\n",
      "455/455 [==============================] - 0s 37us/step - loss: 0.0395 - accuracy: 0.9912\n",
      "Epoch 87/150\n",
      "455/455 [==============================] - 0s 42us/step - loss: 0.0391 - accuracy: 0.9912\n",
      "Epoch 88/150\n",
      "455/455 [==============================] - 0s 40us/step - loss: 0.0387 - accuracy: 0.9912\n",
      "Epoch 89/150\n",
      "455/455 [==============================] - 0s 40us/step - loss: 0.0384 - accuracy: 0.9912\n",
      "Epoch 90/150\n",
      "455/455 [==============================] - 0s 44us/step - loss: 0.0379 - accuracy: 0.9912\n",
      "Epoch 91/150\n",
      "455/455 [==============================] - 0s 42us/step - loss: 0.0376 - accuracy: 0.9912\n",
      "Epoch 92/150\n",
      "455/455 [==============================] - 0s 42us/step - loss: 0.0371 - accuracy: 0.9912\n",
      "Epoch 93/150\n",
      "455/455 [==============================] - 0s 42us/step - loss: 0.0367 - accuracy: 0.9912\n",
      "Epoch 94/150\n",
      "455/455 [==============================] - 0s 40us/step - loss: 0.0363 - accuracy: 0.9912\n",
      "Epoch 95/150\n",
      "455/455 [==============================] - 0s 37us/step - loss: 0.0360 - accuracy: 0.9912\n",
      "Epoch 96/150\n",
      "455/455 [==============================] - 0s 42us/step - loss: 0.0356 - accuracy: 0.9912\n",
      "Epoch 97/150\n",
      "455/455 [==============================] - 0s 51us/step - loss: 0.0352 - accuracy: 0.9912\n",
      "Epoch 98/150\n",
      "455/455 [==============================] - 0s 40us/step - loss: 0.0348 - accuracy: 0.9912\n",
      "Epoch 99/150\n",
      "455/455 [==============================] - 0s 44us/step - loss: 0.0345 - accuracy: 0.9912\n",
      "Epoch 100/150\n",
      "455/455 [==============================] - 0s 35us/step - loss: 0.0341 - accuracy: 0.9912\n",
      "Epoch 101/150\n",
      "455/455 [==============================] - 0s 42us/step - loss: 0.0338 - accuracy: 0.9912\n",
      "Epoch 102/150\n",
      "455/455 [==============================] - 0s 46us/step - loss: 0.0336 - accuracy: 0.9912\n",
      "Epoch 103/150\n",
      "455/455 [==============================] - 0s 35us/step - loss: 0.0332 - accuracy: 0.9912\n",
      "Epoch 104/150\n",
      "455/455 [==============================] - 0s 35us/step - loss: 0.0329 - accuracy: 0.9912\n",
      "Epoch 105/150\n",
      "455/455 [==============================] - 0s 33us/step - loss: 0.0326 - accuracy: 0.9912\n",
      "Epoch 106/150\n",
      "455/455 [==============================] - 0s 29us/step - loss: 0.0323 - accuracy: 0.9912\n",
      "Epoch 107/150\n",
      "455/455 [==============================] - 0s 40us/step - loss: 0.0320 - accuracy: 0.9912\n",
      "Epoch 108/150\n",
      "455/455 [==============================] - 0s 37us/step - loss: 0.0317 - accuracy: 0.9912\n",
      "Epoch 109/150\n",
      "455/455 [==============================] - 0s 40us/step - loss: 0.0314 - accuracy: 0.9912\n",
      "Epoch 110/150\n",
      "455/455 [==============================] - 0s 42us/step - loss: 0.0311 - accuracy: 0.9912\n",
      "Epoch 111/150\n",
      "455/455 [==============================] - 0s 37us/step - loss: 0.0308 - accuracy: 0.9912\n",
      "Epoch 112/150\n",
      "455/455 [==============================] - 0s 37us/step - loss: 0.0305 - accuracy: 0.9912\n",
      "Epoch 113/150\n",
      "455/455 [==============================] - 0s 42us/step - loss: 0.0303 - accuracy: 0.9912\n",
      "Epoch 114/150\n",
      "455/455 [==============================] - 0s 33us/step - loss: 0.0299 - accuracy: 0.9912\n",
      "Epoch 115/150\n",
      "455/455 [==============================] - 0s 37us/step - loss: 0.0296 - accuracy: 0.9912\n",
      "Epoch 116/150\n",
      "455/455 [==============================] - 0s 35us/step - loss: 0.0294 - accuracy: 0.9912\n",
      "Epoch 117/150\n",
      "455/455 [==============================] - 0s 40us/step - loss: 0.0290 - accuracy: 0.9912\n",
      "Epoch 118/150\n",
      "455/455 [==============================] - 0s 37us/step - loss: 0.0288 - accuracy: 0.9912\n",
      "Epoch 119/150\n",
      "455/455 [==============================] - 0s 40us/step - loss: 0.0285 - accuracy: 0.9912\n",
      "Epoch 120/150\n",
      "455/455 [==============================] - 0s 37us/step - loss: 0.0282 - accuracy: 0.9912\n",
      "Epoch 121/150\n",
      "455/455 [==============================] - 0s 37us/step - loss: 0.0279 - accuracy: 0.9912\n",
      "Epoch 122/150\n",
      "455/455 [==============================] - 0s 37us/step - loss: 0.0277 - accuracy: 0.9912\n",
      "Epoch 123/150\n",
      "455/455 [==============================] - 0s 42us/step - loss: 0.0274 - accuracy: 0.9912\n",
      "Epoch 124/150\n",
      "455/455 [==============================] - 0s 37us/step - loss: 0.0272 - accuracy: 0.9912\n",
      "Epoch 125/150\n",
      "455/455 [==============================] - 0s 35us/step - loss: 0.0269 - accuracy: 0.9912\n",
      "Epoch 126/150\n",
      "455/455 [==============================] - 0s 35us/step - loss: 0.0266 - accuracy: 0.9912\n",
      "Epoch 127/150\n",
      "455/455 [==============================] - ETA: 0s - loss: 0.0282 - accuracy: 0.99 - 0s 40us/step - loss: 0.0263 - accuracy: 0.9912\n",
      "Epoch 128/150\n",
      "455/455 [==============================] - 0s 37us/step - loss: 0.0261 - accuracy: 0.9912\n",
      "Epoch 129/150\n",
      "455/455 [==============================] - 0s 33us/step - loss: 0.0258 - accuracy: 0.9912\n",
      "Epoch 130/150\n",
      "455/455 [==============================] - 0s 31us/step - loss: 0.0255 - accuracy: 0.9912\n",
      "Epoch 131/150\n",
      "455/455 [==============================] - 0s 33us/step - loss: 0.0253 - accuracy: 0.9912\n",
      "Epoch 132/150\n",
      "455/455 [==============================] - 0s 35us/step - loss: 0.0250 - accuracy: 0.9912\n",
      "Epoch 133/150\n",
      "455/455 [==============================] - 0s 37us/step - loss: 0.0247 - accuracy: 0.9912\n",
      "Epoch 134/150\n",
      "455/455 [==============================] - 0s 44us/step - loss: 0.0244 - accuracy: 0.9912\n",
      "Epoch 135/150\n",
      "455/455 [==============================] - 0s 35us/step - loss: 0.0242 - accuracy: 0.9912\n",
      "Epoch 136/150\n",
      "455/455 [==============================] - 0s 42us/step - loss: 0.0240 - accuracy: 0.9912\n",
      "Epoch 137/150\n",
      "455/455 [==============================] - 0s 31us/step - loss: 0.0237 - accuracy: 0.9912\n",
      "Epoch 138/150\n",
      "455/455 [==============================] - 0s 35us/step - loss: 0.0235 - accuracy: 0.9912\n",
      "Epoch 139/150\n",
      "455/455 [==============================] - 0s 31us/step - loss: 0.0233 - accuracy: 0.9912\n",
      "Epoch 140/150\n",
      "455/455 [==============================] - 0s 37us/step - loss: 0.0230 - accuracy: 0.9912\n",
      "Epoch 141/150\n",
      "455/455 [==============================] - 0s 37us/step - loss: 0.0227 - accuracy: 0.9912\n",
      "Epoch 142/150\n",
      "455/455 [==============================] - ETA: 0s - loss: 0.0311 - accuracy: 0.99 - 0s 33us/step - loss: 0.0225 - accuracy: 0.9912\n",
      "Epoch 143/150\n",
      "455/455 [==============================] - 0s 46us/step - loss: 0.0223 - accuracy: 0.9912\n",
      "Epoch 144/150\n",
      "455/455 [==============================] - ETA: 0s - loss: 0.0345 - accuracy: 0.98 - 0s 40us/step - loss: 0.0220 - accuracy: 0.9912\n",
      "Epoch 145/150\n",
      "455/455 [==============================] - 0s 33us/step - loss: 0.0216 - accuracy: 0.9912\n",
      "Epoch 146/150\n",
      "455/455 [==============================] - 0s 37us/step - loss: 0.0214 - accuracy: 0.9912\n",
      "Epoch 147/150\n",
      "455/455 [==============================] - 0s 40us/step - loss: 0.0211 - accuracy: 0.9912\n",
      "Epoch 148/150\n",
      "455/455 [==============================] - 0s 35us/step - loss: 0.0208 - accuracy: 0.9912\n",
      "Epoch 149/150\n",
      "455/455 [==============================] - 0s 35us/step - loss: 0.0206 - accuracy: 0.9912\n",
      "Epoch 150/150\n",
      "455/455 [==============================] - 0s 35us/step - loss: 0.0204 - accuracy: 0.9912\n"
     ]
    },
    {
     "data": {
      "text/plain": [
       "<keras.callbacks.callbacks.History at 0x13408b7e9b0>"
      ]
     },
     "execution_count": 30,
     "metadata": {},
     "output_type": "execute_result"
    }
   ],
   "source": [
    "model.fit(x_train,y_train,batch_size=100,nb_epoch=150)  "
   ]
  },
  {
   "cell_type": "code",
   "execution_count": 31,
   "metadata": {},
   "outputs": [
    {
     "name": "stdout",
     "output_type": "stream",
     "text": [
      "[[-0.22609091  0.14299357 -0.16219992 ...  1.33438591  1.22101459\n",
      "   1.32977555]\n",
      " [-0.28072076  1.13113906 -0.34954245 ... -0.81952682 -0.77541863\n",
      "  -0.94570364]\n",
      " [-0.04782508 -0.87231025 -0.12299829 ... -0.49120548 -1.31433312\n",
      "  -0.98696059]\n",
      " ...\n",
      " [ 1.7233322  -0.06173848  1.70132185 ...  1.51554921  0.25341812\n",
      "  -0.26496405]\n",
      " [ 1.18565945  0.15552818  1.16487847 ...  0.53103066  0.32690646\n",
      "  -0.37709831]\n",
      " [ 0.24545096 -0.64668718  0.25416267 ... -0.19956228 -1.2425945\n",
      "  -0.01424877]]\n"
     ]
    }
   ],
   "source": [
    "print(x_test) "
   ]
  },
  {
   "cell_type": "markdown",
   "metadata": {},
   "source": [
    "#### Predicting the test set result"
   ]
  },
  {
   "cell_type": "code",
   "execution_count": 32,
   "metadata": {},
   "outputs": [],
   "source": [
    "y_pred = model.predict(x_test) \n",
    "\n",
    "y_pred = (y_pred>0.5)"
   ]
  },
  {
   "cell_type": "markdown",
   "metadata": {},
   "source": [
    "#### Making the Confusion Matrix"
   ]
  },
  {
   "cell_type": "code",
   "execution_count": 33,
   "metadata": {},
   "outputs": [],
   "source": [
    "from sklearn.metrics import confusion_matrix "
   ]
  },
  {
   "cell_type": "code",
   "execution_count": 34,
   "metadata": {},
   "outputs": [],
   "source": [
    "cm = confusion_matrix(y_test,y_pred) "
   ]
  },
  {
   "cell_type": "code",
   "execution_count": 35,
   "metadata": {},
   "outputs": [
    {
     "data": {
      "image/png": "[encoded data removed]",
      "text/plain": [
       "<Figure size 432x288 with 2 Axes>"
      ]
     },
     "metadata": {
      "needs_background": "light"
     },
     "output_type": "display_data"
    }
   ],
   "source": [
    "sns.heatmap(cm,annot=True)\n",
    "plt.savefig('h.png')"
   ]
  },
  {
   "cell_type": "code",
   "execution_count": 3,
   "metadata": {},
   "outputs": [
    {
     "data": {
      "text/plain": [
       "0.9649122807017544"
      ]
     },
     "execution_count": 3,
     "metadata": {},
     "output_type": "execute_result"
    }
   ],
   "source": [
    "#First Accuracy after traning\n",
    "(66+44)/114 "
   ]
  },
  {
   "cell_type": "markdown",
   "metadata": {},
   "source": [
    "##  14: K-Fold Cross Validation using Keras Python"
   ]
  },
  {
   "cell_type": "markdown",
   "metadata": {},
   "source": [
    "1. keras classification\n",
    "2. cross validation score\n",
    "3. Dence Layer\n",
    "\n",
    "by using this methods train our model again and check the accuracy "
   ]
  },
  {
   "cell_type": "code",
   "execution_count": null,
   "metadata": {},
   "outputs": [],
   "source": []
  },
  {
   "cell_type": "code",
   "execution_count": 7,
   "metadata": {},
   "outputs": [],
   "source": [
    "from keras.wrappers.scikit_learn import KerasClassifier\n",
    "from sklearn.model_selection import cross_val_score\n",
    "from keras.models import Sequential\n",
    "from keras.layers import Dense"
   ]
  },
  {
   "cell_type": "markdown",
   "metadata": {},
   "source": [
    "This following function call in to function and decide the ephocs quantity\n",
    "1. Classifier\n",
    "2. Input Hidden layers\n",
    "3. Compilation of Model"
   ]
  },
  {
   "cell_type": "code",
   "execution_count": 41,
   "metadata": {},
   "outputs": [],
   "source": [
    "def built_model():\n",
    "    model = Sequential()\n",
    "    model.add(Dense(output_dim=16,init='uniform',activation='relu',input_dim=30))\n",
    "    model.add(Dense(output_dim=16,init='uniform',activation='relu'))\n",
    "    model.add(Dense(output_dim = 1,init='uniform',activation='sigmoid'))\n",
    "    model.compile(optimizer='Adam',loss='binary_crossentropy',metrics=['accuracy'])\n",
    "    return model\n",
    "\n",
    "model = KerasClassifier(build_fn=built_model,batch_size=100,epochs=100) \n",
    "acciracies = cross_val_score(estimator=model,X= x_train, y= y_train,cv=10,n_jobs=-1) \n"
   ]
  },
  {
   "cell_type": "code",
   "execution_count": 43,
   "metadata": {},
   "outputs": [
    {
     "data": {
      "text/plain": [
       "array([1.        , 1.        , 1.        , 0.97826087, 0.95652175,\n",
       "       0.95555556, 0.97777778, 1.        , 0.97777778, 0.97777778])"
      ]
     },
     "execution_count": 43,
     "metadata": {},
     "output_type": "execute_result"
    }
   ],
   "source": [
    "acciracies"
   ]
  },
  {
   "cell_type": "code",
   "execution_count": 44,
   "metadata": {},
   "outputs": [
    {
     "data": {
      "text/plain": [
       "0.9823671519756317"
      ]
     },
     "execution_count": 44,
     "metadata": {},
     "output_type": "execute_result"
    }
   ],
   "source": [
    "acciracies.mean() "
   ]
  },
  {
   "cell_type": "code",
   "execution_count": 45,
   "metadata": {},
   "outputs": [
    {
     "data": {
      "text/plain": [
       "0.016463791332592098"
      ]
     },
     "execution_count": 45,
     "metadata": {},
     "output_type": "execute_result"
    }
   ],
   "source": [
    "acciracies.std()  #Standard derivation "
   ]
  },
  {
   "cell_type": "code",
   "execution_count": 42,
   "metadata": {},
   "outputs": [],
   "source": [
    "mean = acciracies.mean(); "
   ]
  },
  {
   "cell_type": "code",
   "execution_count": null,
   "metadata": {},
   "outputs": [],
   "source": []
  }
 ],
 "metadata": {
  "kernelspec": {
   "display_name": "Python 3",
   "language": "python",
   "name": "python3"
  },
  "language_info": {
   "codemirror_mode": {
    "name": "ipython",
    "version": 3
   },
   "file_extension": ".py",
   "mimetype": "text/x-python",
   "name": "python",
   "nbconvert_exporter": "python",
   "pygments_lexer": "ipython3",
   "version": "3.7.7"
  }
 },
 "nbformat": 4,
 "nbformat_minor": 4
}
