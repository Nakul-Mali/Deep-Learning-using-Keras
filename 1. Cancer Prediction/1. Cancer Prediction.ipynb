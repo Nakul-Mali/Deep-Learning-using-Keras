{
 "cells": [
  {
   "cell_type": "code",
   "execution_count": 5,
   "metadata": {},
   "outputs": [],
   "source": [
    "import seaborn as sns\n",
    "import pandas as pd \n",
    "import numpy as np\n",
    "import matplotlib.pyplot as plt \n",
    "import io "
   ]
  },
  {
   "cell_type": "code",
   "execution_count": 9,
   "metadata": {},
   "outputs": [],
   "source": [
    "dataset = pd.read_csv('F:/Data_Set/cancer_datasets.csv')  "
   ]
  },
  {
   "cell_type": "code",
   "execution_count": 10,
   "metadata": {},
   "outputs": [
    {
     "data": {
      "text/html": [
       "<div>\n",
       "<style scoped>\n",
       "    .dataframe tbody tr th:only-of-type {\n",
       "        vertical-align: middle;\n",
       "    }\n",
       "\n",
       "    .dataframe tbody tr th {\n",
       "        vertical-align: top;\n",
       "    }\n",
       "\n",
       "    .dataframe thead th {\n",
       "        text-align: right;\n",
       "    }\n",
       "</style>\n",
       "<table border=\"1\" class=\"dataframe\">\n",
       "  <thead>\n",
       "    <tr style=\"text-align: right;\">\n",
       "      <th></th>\n",
       "      <th>id</th>\n",
       "      <th>diagnosis</th>\n",
       "      <th>radius_mean</th>\n",
       "      <th>texture_mean</th>\n",
       "      <th>perimeter_mean</th>\n",
       "      <th>area_mean</th>\n",
       "      <th>smoothness_mean</th>\n",
       "      <th>compactness_mean</th>\n",
       "      <th>concavity_mean</th>\n",
       "      <th>concave points_mean</th>\n",
       "      <th>...</th>\n",
       "      <th>texture_worst</th>\n",
       "      <th>perimeter_worst</th>\n",
       "      <th>area_worst</th>\n",
       "      <th>smoothness_worst</th>\n",
       "      <th>compactness_worst</th>\n",
       "      <th>concavity_worst</th>\n",
       "      <th>concave points_worst</th>\n",
       "      <th>symmetry_worst</th>\n",
       "      <th>fractal_dimension_worst</th>\n",
       "      <th>Unnamed: 32</th>\n",
       "    </tr>\n",
       "  </thead>\n",
       "  <tbody>\n",
       "    <tr>\n",
       "      <th>0</th>\n",
       "      <td>842302</td>\n",
       "      <td>M</td>\n",
       "      <td>17.99</td>\n",
       "      <td>10.38</td>\n",
       "      <td>122.80</td>\n",
       "      <td>1001.0</td>\n",
       "      <td>0.11840</td>\n",
       "      <td>0.27760</td>\n",
       "      <td>0.3001</td>\n",
       "      <td>0.14710</td>\n",
       "      <td>...</td>\n",
       "      <td>17.33</td>\n",
       "      <td>184.60</td>\n",
       "      <td>2019.0</td>\n",
       "      <td>0.1622</td>\n",
       "      <td>0.6656</td>\n",
       "      <td>0.7119</td>\n",
       "      <td>0.2654</td>\n",
       "      <td>0.4601</td>\n",
       "      <td>0.11890</td>\n",
       "      <td>NaN</td>\n",
       "    </tr>\n",
       "    <tr>\n",
       "      <th>1</th>\n",
       "      <td>842517</td>\n",
       "      <td>M</td>\n",
       "      <td>20.57</td>\n",
       "      <td>17.77</td>\n",
       "      <td>132.90</td>\n",
       "      <td>1326.0</td>\n",
       "      <td>0.08474</td>\n",
       "      <td>0.07864</td>\n",
       "      <td>0.0869</td>\n",
       "      <td>0.07017</td>\n",
       "      <td>...</td>\n",
       "      <td>23.41</td>\n",
       "      <td>158.80</td>\n",
       "      <td>1956.0</td>\n",
       "      <td>0.1238</td>\n",
       "      <td>0.1866</td>\n",
       "      <td>0.2416</td>\n",
       "      <td>0.1860</td>\n",
       "      <td>0.2750</td>\n",
       "      <td>0.08902</td>\n",
       "      <td>NaN</td>\n",
       "    </tr>\n",
       "    <tr>\n",
       "      <th>2</th>\n",
       "      <td>84300903</td>\n",
       "      <td>M</td>\n",
       "      <td>19.69</td>\n",
       "      <td>21.25</td>\n",
       "      <td>130.00</td>\n",
       "      <td>1203.0</td>\n",
       "      <td>0.10960</td>\n",
       "      <td>0.15990</td>\n",
       "      <td>0.1974</td>\n",
       "      <td>0.12790</td>\n",
       "      <td>...</td>\n",
       "      <td>25.53</td>\n",
       "      <td>152.50</td>\n",
       "      <td>1709.0</td>\n",
       "      <td>0.1444</td>\n",
       "      <td>0.4245</td>\n",
       "      <td>0.4504</td>\n",
       "      <td>0.2430</td>\n",
       "      <td>0.3613</td>\n",
       "      <td>0.08758</td>\n",
       "      <td>NaN</td>\n",
       "    </tr>\n",
       "    <tr>\n",
       "      <th>3</th>\n",
       "      <td>84348301</td>\n",
       "      <td>M</td>\n",
       "      <td>11.42</td>\n",
       "      <td>20.38</td>\n",
       "      <td>77.58</td>\n",
       "      <td>386.1</td>\n",
       "      <td>0.14250</td>\n",
       "      <td>0.28390</td>\n",
       "      <td>0.2414</td>\n",
       "      <td>0.10520</td>\n",
       "      <td>...</td>\n",
       "      <td>26.50</td>\n",
       "      <td>98.87</td>\n",
       "      <td>567.7</td>\n",
       "      <td>0.2098</td>\n",
       "      <td>0.8663</td>\n",
       "      <td>0.6869</td>\n",
       "      <td>0.2575</td>\n",
       "      <td>0.6638</td>\n",
       "      <td>0.17300</td>\n",
       "      <td>NaN</td>\n",
       "    </tr>\n",
       "    <tr>\n",
       "      <th>4</th>\n",
       "      <td>84358402</td>\n",
       "      <td>M</td>\n",
       "      <td>20.29</td>\n",
       "      <td>14.34</td>\n",
       "      <td>135.10</td>\n",
       "      <td>1297.0</td>\n",
       "      <td>0.10030</td>\n",
       "      <td>0.13280</td>\n",
       "      <td>0.1980</td>\n",
       "      <td>0.10430</td>\n",
       "      <td>...</td>\n",
       "      <td>16.67</td>\n",
       "      <td>152.20</td>\n",
       "      <td>1575.0</td>\n",
       "      <td>0.1374</td>\n",
       "      <td>0.2050</td>\n",
       "      <td>0.4000</td>\n",
       "      <td>0.1625</td>\n",
       "      <td>0.2364</td>\n",
       "      <td>0.07678</td>\n",
       "      <td>NaN</td>\n",
       "    </tr>\n",
       "  </tbody>\n",
       "</table>\n",
       "<p>5 rows × 33 columns</p>\n",
       "</div>"
      ],
      "text/plain": [
       "         id diagnosis  radius_mean  texture_mean  perimeter_mean  area_mean  \\\n",
       "0    842302         M        17.99         10.38          122.80     1001.0   \n",
       "1    842517         M        20.57         17.77          132.90     1326.0   \n",
       "2  84300903         M        19.69         21.25          130.00     1203.0   \n",
       "3  84348301         M        11.42         20.38           77.58      386.1   \n",
       "4  84358402         M        20.29         14.34          135.10     1297.0   \n",
       "\n",
       "   smoothness_mean  compactness_mean  concavity_mean  concave points_mean  \\\n",
       "0          0.11840           0.27760          0.3001              0.14710   \n",
       "1          0.08474           0.07864          0.0869              0.07017   \n",
       "2          0.10960           0.15990          0.1974              0.12790   \n",
       "3          0.14250           0.28390          0.2414              0.10520   \n",
       "4          0.10030           0.13280          0.1980              0.10430   \n",
       "\n",
       "   ...  texture_worst  perimeter_worst  area_worst  smoothness_worst  \\\n",
       "0  ...          17.33           184.60      2019.0            0.1622   \n",
       "1  ...          23.41           158.80      1956.0            0.1238   \n",
       "2  ...          25.53           152.50      1709.0            0.1444   \n",
       "3  ...          26.50            98.87       567.7            0.2098   \n",
       "4  ...          16.67           152.20      1575.0            0.1374   \n",
       "\n",
       "   compactness_worst  concavity_worst  concave points_worst  symmetry_worst  \\\n",
       "0             0.6656           0.7119                0.2654          0.4601   \n",
       "1             0.1866           0.2416                0.1860          0.2750   \n",
       "2             0.4245           0.4504                0.2430          0.3613   \n",
       "3             0.8663           0.6869                0.2575          0.6638   \n",
       "4             0.2050           0.4000                0.1625          0.2364   \n",
       "\n",
       "   fractal_dimension_worst  Unnamed: 32  \n",
       "0                  0.11890          NaN  \n",
       "1                  0.08902          NaN  \n",
       "2                  0.08758          NaN  \n",
       "3                  0.17300          NaN  \n",
       "4                  0.07678          NaN  \n",
       "\n",
       "[5 rows x 33 columns]"
      ]
     },
     "execution_count": 10,
     "metadata": {},
     "output_type": "execute_result"
    }
   ],
   "source": [
    "dataset.head() "
   ]
  },
  {
   "cell_type": "code",
   "execution_count": 12,
   "metadata": {},
   "outputs": [
    {
     "name": "stdout",
     "output_type": "stream",
     "text": [
      "Benign = 357\n",
      "Malignanat = 212\n"
     ]
    },
    {
     "data": {
      "image/png": "[encoded data removed]",
      "text/plain": [
       "<Figure size 432x288 with 1 Axes>"
      ]
     },
     "metadata": {
      "needs_background": "light"
     },
     "output_type": "display_data"
    }
   ],
   "source": [
    "ax = sns.countplot(dataset['diagnosis'],label= 'Count')\n",
    "B,M = dataset['diagnosis'].value_counts() \n",
    "print(\"Benign = {}\".format(B)) \n",
    "print(\"Malignanat = {}\".format(M)) "
   ]
  },
  {
   "cell_type": "markdown",
   "metadata": {},
   "source": [
    "Delete last Column because it contain all NAN Values"
   ]
  },
  {
   "cell_type": "code",
   "execution_count": 13,
   "metadata": {},
   "outputs": [],
   "source": [
    "del dataset['Unnamed: 32']"
   ]
  },
  {
   "cell_type": "markdown",
   "metadata": {},
   "source": [
    "#### Work on Data Preprocessing"
   ]
  },
  {
   "cell_type": "markdown",
   "metadata": {},
   "source": [
    "#### 1. Devide Data into dependent and independent Variables"
   ]
  },
  {
   "cell_type": "code",
   "execution_count": 15,
   "metadata": {},
   "outputs": [],
   "source": [
    "x = dataset.iloc[:,2:].values\n",
    "\n",
    "y = dataset.iloc[:,1].values"
   ]
  },
  {
   "cell_type": "markdown",
   "metadata": {},
   "source": [
    "#### 2. Encoding Categorical Data"
   ]
  },
  {
   "cell_type": "code",
   "execution_count": 21,
   "metadata": {},
   "outputs": [],
   "source": [
    "from sklearn.preprocessing import LabelEncoder\n",
    "\n",
    "labelencoder_x_1 = LabelEncoder()\n",
    "\n",
    "y = labelencoder_x_1.fit_transform(y)  "
   ]
  },
  {
   "cell_type": "markdown",
   "metadata": {},
   "source": [
    "#### 3. Spliting the dataset into Traning set and Test set"
   ]
  },
  {
   "cell_type": "code",
   "execution_count": 23,
   "metadata": {},
   "outputs": [],
   "source": [
    "from sklearn.model_selection import train_test_split\n",
    "\n",
    "x_train,x_test,y_train,y_test = train_test_split(x,y,test_size=0.1,random_state=0) \n"
   ]
  },
  {
   "cell_type": "markdown",
   "metadata": {},
   "source": [
    "#### 4. Feauture Scaling"
   ]
  },
  {
   "cell_type": "code",
   "execution_count": 25,
   "metadata": {},
   "outputs": [],
   "source": [
    "from sklearn.preprocessing import StandardScaler\n",
    "\n",
    "sc = StandardScaler()\n",
    "x_train = sc.fit_transform(x_train)\n",
    "x_test = sc.fit_transform(x_test) "
   ]
  },
  {
   "cell_type": "code",
   "execution_count": 26,
   "metadata": {},
   "outputs": [
    {
     "data": {
      "text/plain": [
       "array([[-0.52787029,  2.49821982, -0.59939466, ..., -1.74713139,\n",
       "        -0.79044533, -0.91054389],\n",
       "       [-0.55333608,  0.29431013, -0.60759343, ..., -0.62275667,\n",
       "        -0.33646358, -0.83551633],\n",
       "       [ 2.15452653,  0.40392257,  2.26525805, ...,  1.03846122,\n",
       "        -0.11504791,  0.26488788],\n",
       "       ...,\n",
       "       [-1.3297598 , -0.21876938, -1.32088704, ..., -0.98271999,\n",
       "        -0.718764  , -0.13637062],\n",
       "       [-1.24940108, -0.24209117, -1.2835826 , ..., -1.74713139,\n",
       "        -1.58690456, -1.01280367],\n",
       "       [-0.74291476,  1.08958336, -0.71827692, ..., -0.2865488 ,\n",
       "        -1.26354211,  0.19486216]])"
      ]
     },
     "execution_count": 26,
     "metadata": {},
     "output_type": "execute_result"
    }
   ],
   "source": [
    "x_train"
   ]
  },
  {
   "cell_type": "code",
   "execution_count": 27,
   "metadata": {},
   "outputs": [
    {
     "data": {
      "text/plain": [
       "array([[-0.19207516,  0.21655218, -0.11542614, ...,  1.60315155,\n",
       "         1.38812047,  1.39561107],\n",
       "       [-0.24797128,  1.29875111, -0.31114085, ..., -0.76400211,\n",
       "        -0.79834577, -0.93437281],\n",
       "       [-0.00967731, -0.89539007, -0.07447263, ..., -0.40317641,\n",
       "        -1.38855752, -0.97661799],\n",
       "       ...,\n",
       "       [-0.46861385,  0.07241152, -0.46935075, ..., -0.49962508,\n",
       "        -0.33652424, -0.40576652],\n",
       "       [-0.75986205, -0.81073603, -0.78878818, ..., -0.67538685,\n",
       "        -0.01842311,  0.13529668],\n",
       "       [-0.80399056,  1.71744542, -0.84310547, ..., -1.40405566,\n",
       "        -0.02225565, -0.77243298]])"
      ]
     },
     "execution_count": 27,
     "metadata": {},
     "output_type": "execute_result"
    }
   ],
   "source": [
    "x_test"
   ]
  },
  {
   "cell_type": "markdown",
   "metadata": {},
   "source": [
    "Keras Libeary Work Start from here"
   ]
  },
  {
   "cell_type": "code",
   "execution_count": 28,
   "metadata": {},
   "outputs": [],
   "source": [
    "# pip install keras"
   ]
  },
  {
   "cell_type": "code",
   "execution_count": 32,
   "metadata": {},
   "outputs": [],
   "source": [
    "import keras\n",
    "from keras.models import Sequential\n",
    "from keras.layers import Dense "
   ]
  },
  {
   "cell_type": "markdown",
   "metadata": {},
   "source": [
    "#### Adding the First Input and first hidden layer "
   ]
  },
  {
   "cell_type": "code",
   "execution_count": 36,
   "metadata": {},
   "outputs": [
    {
     "name": "stderr",
     "output_type": "stream",
     "text": [
      "D:\\Anaconda3\\lib\\site-packages\\ipykernel_launcher.py:5: UserWarning: Update your `Dense` call to the Keras 2 API: `Dense(activation=\"relu\", input_dim=30, units=16, kernel_initializer=\"uniform\")`\n",
      "  \"\"\"\n",
      "D:\\Anaconda3\\lib\\site-packages\\ipykernel_launcher.py:9: UserWarning: Update your `Dense` call to the Keras 2 API: `Dense(activation=\"relu\", units=16, kernel_initializer=\"uniform\")`\n",
      "  if __name__ == '__main__':\n",
      "D:\\Anaconda3\\lib\\site-packages\\ipykernel_launcher.py:12: UserWarning: Update your `Dense` call to the Keras 2 API: `Dense(activation=\"sigmoid\", units=1, kernel_initializer=\"uniform\")`\n",
      "  if sys.path[0] == '':\n"
     ]
    }
   ],
   "source": [
    "# Adding the first input and first hidden layear\n",
    "\n",
    "clssifier = Sequential()\n",
    "\n",
    "clssifier.add(Dense(output_dim=16,init='uniform',activation='relu',input_dim=30))\n",
    "\n",
    "\n",
    "#Adding Second hidden layer\n",
    "clssifier.add(Dense(output_dim=16,init='uniform',activation='relu'))\n",
    "\n",
    "#Adding the Output layer\n",
    "clssifier.add(Dense(output_dim=1,init='uniform',activation='sigmoid')) "
   ]
  },
  {
   "cell_type": "markdown",
   "metadata": {},
   "source": [
    "#### Compile Classifier"
   ]
  },
  {
   "cell_type": "markdown",
   "metadata": {},
   "source": [
    "We Compile classifier for how to use optimizer weight, Which loss function it contain and how to show the accuracy"
   ]
  },
  {
   "cell_type": "code",
   "execution_count": 39,
   "metadata": {},
   "outputs": [],
   "source": [
    "clssifier.compile(optimizer='Adam',loss='binary_crossentropy',metrics=['accuracy']) "
   ]
  },
  {
   "cell_type": "markdown",
   "metadata": {},
   "source": [
    "#### Train Our ANN with traning and testing with diffrent ephoc"
   ]
  },
  {
   "cell_type": "code",
   "execution_count": 41,
   "metadata": {},
   "outputs": [
    {
     "name": "stderr",
     "output_type": "stream",
     "text": [
      "D:\\Anaconda3\\lib\\site-packages\\ipykernel_launcher.py:1: UserWarning: The `nb_epoch` argument in `fit` has been renamed `epochs`.\n",
      "  \"\"\"Entry point for launching an IPython kernel.\n"
     ]
    },
    {
     "name": "stdout",
     "output_type": "stream",
     "text": [
      "Epoch 1/150\n",
      "512/512 [==============================] - 1s 2ms/step - loss: 0.6927 - accuracy: 0.6719\n",
      "Epoch 2/150\n",
      "512/512 [==============================] - 0s 72us/step - loss: 0.6908 - accuracy: 0.7617\n",
      "Epoch 3/150\n",
      "512/512 [==============================] - 0s 32us/step - loss: 0.6875 - accuracy: 0.8691\n",
      "Epoch 4/150\n",
      "512/512 [==============================] - 0s 31us/step - loss: 0.6818 - accuracy: 0.9160\n",
      "Epoch 5/150\n",
      "512/512 [==============================] - 0s 47us/step - loss: 0.6725 - accuracy: 0.9238\n",
      "Epoch 6/150\n",
      "512/512 [==============================] - 0s 47us/step - loss: 0.6585 - accuracy: 0.9336\n",
      "Epoch 7/150\n",
      "512/512 [==============================] - 0s 47us/step - loss: 0.6378 - accuracy: 0.9336\n",
      "Epoch 8/150\n",
      "512/512 [==============================] - 0s 31us/step - loss: 0.6104 - accuracy: 0.9336\n",
      "Epoch 9/150\n",
      "512/512 [==============================] - 0s 47us/step - loss: 0.5779 - accuracy: 0.9355\n",
      "Epoch 10/150\n",
      "512/512 [==============================] - 0s 47us/step - loss: 0.5412 - accuracy: 0.9355\n",
      "Epoch 11/150\n",
      "512/512 [==============================] - 0s 47us/step - loss: 0.5038 - accuracy: 0.9395\n",
      "Epoch 12/150\n",
      "512/512 [==============================] - 0s 47us/step - loss: 0.4659 - accuracy: 0.9434\n",
      "Epoch 13/150\n",
      "512/512 [==============================] - 0s 47us/step - loss: 0.4292 - accuracy: 0.9531\n",
      "Epoch 14/150\n",
      "512/512 [==============================] - 0s 31us/step - loss: 0.3935 - accuracy: 0.9531\n",
      "Epoch 15/150\n",
      "512/512 [==============================] - 0s 31us/step - loss: 0.3592 - accuracy: 0.9590\n",
      "Epoch 16/150\n",
      "512/512 [==============================] - 0s 31us/step - loss: 0.3258 - accuracy: 0.9590\n",
      "Epoch 17/150\n",
      "512/512 [==============================] - 0s 47us/step - loss: 0.2944 - accuracy: 0.9609\n",
      "Epoch 18/150\n",
      "512/512 [==============================] - 0s 47us/step - loss: 0.2649 - accuracy: 0.9648\n",
      "Epoch 19/150\n",
      "512/512 [==============================] - 0s 47us/step - loss: 0.2377 - accuracy: 0.9668\n",
      "Epoch 20/150\n",
      "512/512 [==============================] - 0s 47us/step - loss: 0.2146 - accuracy: 0.9668\n",
      "Epoch 21/150\n",
      "512/512 [==============================] - 0s 31us/step - loss: 0.1944 - accuracy: 0.9707\n",
      "Epoch 22/150\n",
      "512/512 [==============================] - 0s 31us/step - loss: 0.1771 - accuracy: 0.9707\n",
      "Epoch 23/150\n",
      "512/512 [==============================] - 0s 56us/step - loss: 0.1625 - accuracy: 0.9727\n",
      "Epoch 24/150\n",
      "512/512 [==============================] - 0s 39us/step - loss: 0.1502 - accuracy: 0.9727\n",
      "Epoch 25/150\n",
      "512/512 [==============================] - 0s 31us/step - loss: 0.1396 - accuracy: 0.9746\n",
      "Epoch 26/150\n",
      "512/512 [==============================] - 0s 47us/step - loss: 0.1312 - accuracy: 0.9766\n",
      "Epoch 27/150\n",
      "512/512 [==============================] - 0s 31us/step - loss: 0.1236 - accuracy: 0.9785\n",
      "Epoch 28/150\n",
      "512/512 [==============================] - 0s 47us/step - loss: 0.1177 - accuracy: 0.9785\n",
      "Epoch 29/150\n",
      "512/512 [==============================] - 0s 47us/step - loss: 0.1120 - accuracy: 0.9785\n",
      "Epoch 30/150\n",
      "512/512 [==============================] - 0s 47us/step - loss: 0.1070 - accuracy: 0.9785\n",
      "Epoch 31/150\n",
      "512/512 [==============================] - 0s 31us/step - loss: 0.1024 - accuracy: 0.9766\n",
      "Epoch 32/150\n",
      "512/512 [==============================] - 0s 31us/step - loss: 0.0983 - accuracy: 0.9805\n",
      "Epoch 33/150\n",
      "512/512 [==============================] - 0s 31us/step - loss: 0.0947 - accuracy: 0.9805\n",
      "Epoch 34/150\n",
      "512/512 [==============================] - 0s 31us/step - loss: 0.0918 - accuracy: 0.9805\n",
      "Epoch 35/150\n",
      "512/512 [==============================] - 0s 31us/step - loss: 0.0890 - accuracy: 0.9805\n",
      "Epoch 36/150\n",
      "512/512 [==============================] - 0s 31us/step - loss: 0.0866 - accuracy: 0.9805\n",
      "Epoch 37/150\n",
      "512/512 [==============================] - 0s 31us/step - loss: 0.0845 - accuracy: 0.9805\n",
      "Epoch 38/150\n",
      "512/512 [==============================] - 0s 31us/step - loss: 0.0826 - accuracy: 0.9824\n",
      "Epoch 39/150\n",
      "512/512 [==============================] - 0s 31us/step - loss: 0.0807 - accuracy: 0.9824\n",
      "Epoch 40/150\n",
      "512/512 [==============================] - 0s 47us/step - loss: 0.0790 - accuracy: 0.9824\n",
      "Epoch 41/150\n",
      "512/512 [==============================] - 0s 31us/step - loss: 0.0774 - accuracy: 0.9824\n",
      "Epoch 42/150\n",
      "512/512 [==============================] - 0s 31us/step - loss: 0.0759 - accuracy: 0.9824\n",
      "Epoch 43/150\n",
      "512/512 [==============================] - 0s 31us/step - loss: 0.0745 - accuracy: 0.9824\n",
      "Epoch 44/150\n",
      "512/512 [==============================] - 0s 31us/step - loss: 0.0733 - accuracy: 0.9824\n",
      "Epoch 45/150\n",
      "512/512 [==============================] - 0s 45us/step - loss: 0.0722 - accuracy: 0.9844\n",
      "Epoch 46/150\n",
      "512/512 [==============================] - 0s 32us/step - loss: 0.0709 - accuracy: 0.9844\n",
      "Epoch 47/150\n",
      "512/512 [==============================] - 0s 31us/step - loss: 0.0698 - accuracy: 0.9844\n",
      "Epoch 48/150\n",
      "512/512 [==============================] - 0s 47us/step - loss: 0.0688 - accuracy: 0.9824\n",
      "Epoch 49/150\n",
      "512/512 [==============================] - 0s 47us/step - loss: 0.0680 - accuracy: 0.9824\n",
      "Epoch 50/150\n",
      "512/512 [==============================] - 0s 31us/step - loss: 0.0670 - accuracy: 0.9824\n",
      "Epoch 51/150\n",
      "512/512 [==============================] - 0s 47us/step - loss: 0.0661 - accuracy: 0.9824\n",
      "Epoch 52/150\n",
      "512/512 [==============================] - 0s 31us/step - loss: 0.0651 - accuracy: 0.9844\n",
      "Epoch 53/150\n",
      "512/512 [==============================] - 0s 47us/step - loss: 0.0641 - accuracy: 0.9844\n",
      "Epoch 54/150\n",
      "512/512 [==============================] - 0s 31us/step - loss: 0.0633 - accuracy: 0.9844\n",
      "Epoch 55/150\n",
      "512/512 [==============================] - ETA: 0s - loss: 0.0360 - accuracy: 0.99 - 0s 31us/step - loss: 0.0627 - accuracy: 0.9844\n",
      "Epoch 56/150\n",
      "512/512 [==============================] - 0s 47us/step - loss: 0.0621 - accuracy: 0.9844\n",
      "Epoch 57/150\n",
      "512/512 [==============================] - 0s 47us/step - loss: 0.0614 - accuracy: 0.9844\n",
      "Epoch 58/150\n",
      "512/512 [==============================] - 0s 31us/step - loss: 0.0608 - accuracy: 0.9844\n",
      "Epoch 59/150\n",
      "512/512 [==============================] - 0s 31us/step - loss: 0.0602 - accuracy: 0.9844\n",
      "Epoch 60/150\n",
      "512/512 [==============================] - 0s 31us/step - loss: 0.0595 - accuracy: 0.9844\n",
      "Epoch 61/150\n",
      "512/512 [==============================] - 0s 47us/step - loss: 0.0590 - accuracy: 0.9844\n",
      "Epoch 62/150\n",
      "512/512 [==============================] - 0s 47us/step - loss: 0.0584 - accuracy: 0.9844\n",
      "Epoch 63/150\n",
      "512/512 [==============================] - 0s 47us/step - loss: 0.0580 - accuracy: 0.9844\n",
      "Epoch 64/150\n",
      "512/512 [==============================] - 0s 31us/step - loss: 0.0575 - accuracy: 0.9844\n",
      "Epoch 65/150\n",
      "512/512 [==============================] - 0s 47us/step - loss: 0.0571 - accuracy: 0.9844\n",
      "Epoch 66/150\n",
      "512/512 [==============================] - 0s 31us/step - loss: 0.0566 - accuracy: 0.9844\n",
      "Epoch 67/150\n",
      "512/512 [==============================] - 0s 39us/step - loss: 0.0562 - accuracy: 0.9844\n",
      "Epoch 68/150\n",
      "512/512 [==============================] - 0s 31us/step - loss: 0.0557 - accuracy: 0.9844\n",
      "Epoch 69/150\n",
      "512/512 [==============================] - 0s 47us/step - loss: 0.0553 - accuracy: 0.9844\n",
      "Epoch 70/150\n",
      "512/512 [==============================] - 0s 31us/step - loss: 0.0549 - accuracy: 0.9844\n",
      "Epoch 71/150\n",
      "512/512 [==============================] - 0s 31us/step - loss: 0.0545 - accuracy: 0.9844\n",
      "Epoch 72/150\n",
      "512/512 [==============================] - 0s 31us/step - loss: 0.0541 - accuracy: 0.9844\n",
      "Epoch 73/150\n",
      "512/512 [==============================] - 0s 31us/step - loss: 0.0538 - accuracy: 0.9844\n",
      "Epoch 74/150\n",
      "512/512 [==============================] - 0s 31us/step - loss: 0.0535 - accuracy: 0.9844\n",
      "Epoch 75/150\n",
      "512/512 [==============================] - 0s 47us/step - loss: 0.0532 - accuracy: 0.9844\n",
      "Epoch 76/150\n",
      "512/512 [==============================] - 0s 31us/step - loss: 0.0529 - accuracy: 0.9844\n",
      "Epoch 77/150\n",
      "512/512 [==============================] - 0s 31us/step - loss: 0.0526 - accuracy: 0.9844\n",
      "Epoch 78/150\n",
      "512/512 [==============================] - 0s 31us/step - loss: 0.0523 - accuracy: 0.9844\n",
      "Epoch 79/150\n",
      "512/512 [==============================] - 0s 31us/step - loss: 0.0520 - accuracy: 0.9844\n",
      "Epoch 80/150\n",
      "512/512 [==============================] - 0s 47us/step - loss: 0.0517 - accuracy: 0.9844\n",
      "Epoch 81/150\n",
      "512/512 [==============================] - 0s 31us/step - loss: 0.0514 - accuracy: 0.9844\n",
      "Epoch 82/150\n",
      "512/512 [==============================] - 0s 47us/step - loss: 0.0511 - accuracy: 0.9844\n",
      "Epoch 83/150\n",
      "512/512 [==============================] - 0s 47us/step - loss: 0.0508 - accuracy: 0.9844\n",
      "Epoch 84/150\n",
      "512/512 [==============================] - 0s 31us/step - loss: 0.0506 - accuracy: 0.9844\n",
      "Epoch 85/150\n",
      "512/512 [==============================] - 0s 16us/step - loss: 0.0503 - accuracy: 0.9844\n",
      "Epoch 86/150\n",
      "512/512 [==============================] - 0s 31us/step - loss: 0.0500 - accuracy: 0.9863\n",
      "Epoch 87/150\n",
      "512/512 [==============================] - 0s 31us/step - loss: 0.0498 - accuracy: 0.9863\n",
      "Epoch 88/150\n",
      "512/512 [==============================] - 0s 31us/step - loss: 0.0495 - accuracy: 0.9883\n",
      "Epoch 89/150\n",
      "512/512 [==============================] - 0s 41us/step - loss: 0.0493 - accuracy: 0.9883\n",
      "Epoch 90/150\n",
      "512/512 [==============================] - 0s 32us/step - loss: 0.0490 - accuracy: 0.9883\n",
      "Epoch 91/150\n",
      "512/512 [==============================] - 0s 47us/step - loss: 0.0487 - accuracy: 0.9883\n",
      "Epoch 92/150\n",
      "512/512 [==============================] - 0s 31us/step - loss: 0.0486 - accuracy: 0.9883\n",
      "Epoch 93/150\n",
      "512/512 [==============================] - 0s 31us/step - loss: 0.0482 - accuracy: 0.9883\n",
      "Epoch 94/150\n",
      "512/512 [==============================] - 0s 31us/step - loss: 0.0479 - accuracy: 0.9883\n",
      "Epoch 95/150\n",
      "512/512 [==============================] - 0s 47us/step - loss: 0.0477 - accuracy: 0.9902\n",
      "Epoch 96/150\n",
      "512/512 [==============================] - 0s 31us/step - loss: 0.0474 - accuracy: 0.9902\n",
      "Epoch 97/150\n",
      "512/512 [==============================] - 0s 31us/step - loss: 0.0472 - accuracy: 0.9902\n",
      "Epoch 98/150\n",
      "512/512 [==============================] - 0s 31us/step - loss: 0.0469 - accuracy: 0.9883\n",
      "Epoch 99/150\n",
      "512/512 [==============================] - 0s 31us/step - loss: 0.0467 - accuracy: 0.9883\n",
      "Epoch 100/150\n",
      "512/512 [==============================] - 0s 47us/step - loss: 0.0464 - accuracy: 0.9883\n",
      "Epoch 101/150\n",
      "512/512 [==============================] - 0s 31us/step - loss: 0.0462 - accuracy: 0.9883\n",
      "Epoch 102/150\n",
      "512/512 [==============================] - 0s 47us/step - loss: 0.0460 - accuracy: 0.9883\n",
      "Epoch 103/150\n",
      "512/512 [==============================] - 0s 31us/step - loss: 0.0458 - accuracy: 0.9863\n",
      "Epoch 104/150\n",
      "512/512 [==============================] - 0s 31us/step - loss: 0.0456 - accuracy: 0.9863\n",
      "Epoch 105/150\n",
      "512/512 [==============================] - 0s 31us/step - loss: 0.0454 - accuracy: 0.9883\n",
      "Epoch 106/150\n",
      "512/512 [==============================] - 0s 31us/step - loss: 0.0451 - accuracy: 0.9883\n",
      "Epoch 107/150\n",
      "512/512 [==============================] - 0s 47us/step - loss: 0.0449 - accuracy: 0.9883\n",
      "Epoch 108/150\n",
      "512/512 [==============================] - 0s 31us/step - loss: 0.0447 - accuracy: 0.9902\n",
      "Epoch 109/150\n",
      "512/512 [==============================] - 0s 31us/step - loss: 0.0445 - accuracy: 0.9902\n",
      "Epoch 110/150\n",
      "512/512 [==============================] - 0s 31us/step - loss: 0.0444 - accuracy: 0.9902\n",
      "Epoch 111/150\n",
      "512/512 [==============================] - 0s 31us/step - loss: 0.0441 - accuracy: 0.9922\n",
      "Epoch 112/150\n",
      "512/512 [==============================] - 0s 40us/step - loss: 0.0440 - accuracy: 0.9922\n",
      "Epoch 113/150\n",
      "512/512 [==============================] - 0s 48us/step - loss: 0.0440 - accuracy: 0.9922\n",
      "Epoch 114/150\n",
      "512/512 [==============================] - ETA: 0s - loss: 0.0304 - accuracy: 1.00 - 0s 31us/step - loss: 0.0438 - accuracy: 0.9922\n",
      "Epoch 115/150\n",
      "512/512 [==============================] - 0s 47us/step - loss: 0.0435 - accuracy: 0.9922\n",
      "Epoch 116/150\n",
      "512/512 [==============================] - 0s 31us/step - loss: 0.0432 - accuracy: 0.9922\n",
      "Epoch 117/150\n",
      "512/512 [==============================] - 0s 31us/step - loss: 0.0430 - accuracy: 0.9922\n",
      "Epoch 118/150\n",
      "512/512 [==============================] - 0s 31us/step - loss: 0.0427 - accuracy: 0.9922\n",
      "Epoch 119/150\n",
      "512/512 [==============================] - 0s 31us/step - loss: 0.0425 - accuracy: 0.9922\n",
      "Epoch 120/150\n",
      "512/512 [==============================] - 0s 31us/step - loss: 0.0423 - accuracy: 0.9922\n",
      "Epoch 121/150\n",
      "512/512 [==============================] - 0s 31us/step - loss: 0.0421 - accuracy: 0.9922\n",
      "Epoch 122/150\n",
      "512/512 [==============================] - 0s 31us/step - loss: 0.0419 - accuracy: 0.9922\n",
      "Epoch 123/150\n",
      "512/512 [==============================] - 0s 31us/step - loss: 0.0418 - accuracy: 0.9922\n",
      "Epoch 124/150\n",
      "512/512 [==============================] - 0s 31us/step - loss: 0.0417 - accuracy: 0.9922\n",
      "Epoch 125/150\n",
      "512/512 [==============================] - 0s 31us/step - loss: 0.0415 - accuracy: 0.9922\n",
      "Epoch 126/150\n",
      "512/512 [==============================] - 0s 31us/step - loss: 0.0413 - accuracy: 0.9922\n",
      "Epoch 127/150\n",
      "512/512 [==============================] - 0s 31us/step - loss: 0.0413 - accuracy: 0.9922\n",
      "Epoch 128/150\n",
      "512/512 [==============================] - 0s 47us/step - loss: 0.0411 - accuracy: 0.9922\n",
      "Epoch 129/150\n",
      "512/512 [==============================] - 0s 47us/step - loss: 0.0409 - accuracy: 0.9922\n",
      "Epoch 130/150\n",
      "512/512 [==============================] - 0s 31us/step - loss: 0.0407 - accuracy: 0.9922\n",
      "Epoch 131/150\n",
      "512/512 [==============================] - 0s 31us/step - loss: 0.0405 - accuracy: 0.9922\n",
      "Epoch 132/150\n",
      "512/512 [==============================] - 0s 31us/step - loss: 0.0403 - accuracy: 0.9922\n",
      "Epoch 133/150\n",
      "512/512 [==============================] - 0s 31us/step - loss: 0.0400 - accuracy: 0.9922\n",
      "Epoch 134/150\n",
      "512/512 [==============================] - 0s 31us/step - loss: 0.0399 - accuracy: 0.9922\n",
      "Epoch 135/150\n",
      "512/512 [==============================] - 0s 31us/step - loss: 0.0397 - accuracy: 0.9922\n",
      "Epoch 136/150\n",
      "512/512 [==============================] - 0s 31us/step - loss: 0.0395 - accuracy: 0.9922\n",
      "Epoch 137/150\n",
      "512/512 [==============================] - 0s 35us/step - loss: 0.0393 - accuracy: 0.9922\n",
      "Epoch 138/150\n",
      "512/512 [==============================] - 0s 31us/step - loss: 0.0392 - accuracy: 0.9922\n",
      "Epoch 139/150\n",
      "512/512 [==============================] - 0s 47us/step - loss: 0.0391 - accuracy: 0.9922\n",
      "Epoch 140/150\n",
      "512/512 [==============================] - 0s 31us/step - loss: 0.0389 - accuracy: 0.9922\n",
      "Epoch 141/150\n",
      "512/512 [==============================] - 0s 47us/step - loss: 0.0388 - accuracy: 0.9922\n",
      "Epoch 142/150\n",
      "512/512 [==============================] - 0s 31us/step - loss: 0.0387 - accuracy: 0.9922\n",
      "Epoch 143/150\n",
      "512/512 [==============================] - 0s 31us/step - loss: 0.0386 - accuracy: 0.9922\n",
      "Epoch 144/150\n",
      "512/512 [==============================] - 0s 31us/step - loss: 0.0385 - accuracy: 0.9922\n",
      "Epoch 145/150\n",
      "512/512 [==============================] - 0s 31us/step - loss: 0.0384 - accuracy: 0.9922\n",
      "Epoch 146/150\n",
      "512/512 [==============================] - 0s 31us/step - loss: 0.0383 - accuracy: 0.9922\n",
      "Epoch 147/150\n",
      "512/512 [==============================] - 0s 31us/step - loss: 0.0380 - accuracy: 0.9922\n",
      "Epoch 148/150\n",
      "512/512 [==============================] - 0s 31us/step - loss: 0.0379 - accuracy: 0.9922\n",
      "Epoch 149/150\n",
      "512/512 [==============================] - 0s 47us/step - loss: 0.0378 - accuracy: 0.9922\n",
      "Epoch 150/150\n",
      "512/512 [==============================] - 0s 47us/step - loss: 0.0377 - accuracy: 0.9922\n"
     ]
    },
    {
     "data": {
      "text/plain": [
       "<keras.callbacks.callbacks.History at 0x24f132b85c0>"
      ]
     },
     "execution_count": 41,
     "metadata": {},
     "output_type": "execute_result"
    }
   ],
   "source": [
    "clssifier.fit(x_train,y_train,batch_size=100,nb_epoch=150) "
   ]
  },
  {
   "cell_type": "code",
   "execution_count": 42,
   "metadata": {},
   "outputs": [
    {
     "data": {
      "text/plain": [
       "array([[-0.19207516,  0.21655218, -0.11542614, ...,  1.60315155,\n",
       "         1.38812047,  1.39561107],\n",
       "       [-0.24797128,  1.29875111, -0.31114085, ..., -0.76400211,\n",
       "        -0.79834577, -0.93437281],\n",
       "       [-0.00967731, -0.89539007, -0.07447263, ..., -0.40317641,\n",
       "        -1.38855752, -0.97661799],\n",
       "       ...,\n",
       "       [-0.46861385,  0.07241152, -0.46935075, ..., -0.49962508,\n",
       "        -0.33652424, -0.40576652],\n",
       "       [-0.75986205, -0.81073603, -0.78878818, ..., -0.67538685,\n",
       "        -0.01842311,  0.13529668],\n",
       "       [-0.80399056,  1.71744542, -0.84310547, ..., -1.40405566,\n",
       "        -0.02225565, -0.77243298]])"
      ]
     },
     "execution_count": 42,
     "metadata": {},
     "output_type": "execute_result"
    }
   ],
   "source": [
    "x_test"
   ]
  },
  {
   "cell_type": "markdown",
   "metadata": {},
   "source": [
    "#### Predicting the Test set reults"
   ]
  },
  {
   "cell_type": "code",
   "execution_count": 46,
   "metadata": {},
   "outputs": [],
   "source": [
    "y_pred = clssifier.predict(x_test)  \n",
    "y_pred = (y_pred > 0.5) "
   ]
  },
  {
   "cell_type": "markdown",
   "metadata": {},
   "source": [
    "#### Making the confusion Matrix"
   ]
  },
  {
   "cell_type": "code",
   "execution_count": 47,
   "metadata": {},
   "outputs": [],
   "source": [
    "from sklearn.metrics import confusion_matrix \n",
    "cm = confusion_matrix(y_test,y_pred)"
   ]
  },
  {
   "cell_type": "markdown",
   "metadata": {},
   "source": [
    "#### To See the Confusion Matrix"
   ]
  },
  {
   "cell_type": "code",
   "execution_count": 48,
   "metadata": {},
   "outputs": [
    {
     "data": {
      "image/png": "[encoded data removed]",
      "text/plain": [
       "<Figure size 432x288 with 2 Axes>"
      ]
     },
     "metadata": {
      "needs_background": "light"
     },
     "output_type": "display_data"
    }
   ],
   "source": [
    "sns.heatmap(cm,annot=True)\n",
    "plt.savefig('h.png')  "
   ]
  },
  {
   "cell_type": "code",
   "execution_count": null,
   "metadata": {},
   "outputs": [],
   "source": []
  }
 ],
 "metadata": {
  "kernelspec": {
   "display_name": "Python 3",
   "language": "python",
   "name": "python3"
  },
  "language_info": {
   "codemirror_mode": {
    "name": "ipython",
    "version": 3
   },
   "file_extension": ".py",
   "mimetype": "text/x-python",
   "name": "python",
   "nbconvert_exporter": "python",
   "pygments_lexer": "ipython3",
   "version": "3.7.7"
  }
 },
 "nbformat": 4,
 "nbformat_minor": 4
}
