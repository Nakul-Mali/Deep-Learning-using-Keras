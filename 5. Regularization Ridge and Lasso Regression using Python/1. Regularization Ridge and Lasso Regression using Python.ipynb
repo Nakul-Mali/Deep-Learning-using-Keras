{
 "cells": [
  {
   "cell_type": "code",
   "execution_count": 1,
   "metadata": {},
   "outputs": [],
   "source": [
    "import pandas as pd "
   ]
  },
  {
   "cell_type": "code",
   "execution_count": 2,
   "metadata": {},
   "outputs": [],
   "source": [
    "BHNames= ['crim','zn','indus','chas','nox','rm','age','dis','rad','tax','ptratio','black',\n",
    "         'lstat','medv'] "
   ]
  },
  {
   "cell_type": "code",
   "execution_count": 3,
   "metadata": {},
   "outputs": [],
   "source": [
    "url = 'https://archive.ics.uci.edu/ml/machine-learning-databases/housing/housing.data' "
   ]
  },
  {
   "cell_type": "code",
   "execution_count": 4,
   "metadata": {},
   "outputs": [],
   "source": [
    "dataset = pd.read_csv(url,delim_whitespace=True,names=BHNames) "
   ]
  },
  {
   "cell_type": "code",
   "execution_count": 5,
   "metadata": {},
   "outputs": [
    {
     "data": {
      "text/html": [
       "<div>\n",
       "<style scoped>\n",
       "    .dataframe tbody tr th:only-of-type {\n",
       "        vertical-align: middle;\n",
       "    }\n",
       "\n",
       "    .dataframe tbody tr th {\n",
       "        vertical-align: top;\n",
       "    }\n",
       "\n",
       "    .dataframe thead th {\n",
       "        text-align: right;\n",
       "    }\n",
       "</style>\n",
       "<table border=\"1\" class=\"dataframe\">\n",
       "  <thead>\n",
       "    <tr style=\"text-align: right;\">\n",
       "      <th></th>\n",
       "      <th>crim</th>\n",
       "      <th>zn</th>\n",
       "      <th>indus</th>\n",
       "      <th>chas</th>\n",
       "      <th>nox</th>\n",
       "      <th>rm</th>\n",
       "      <th>age</th>\n",
       "      <th>dis</th>\n",
       "      <th>rad</th>\n",
       "      <th>tax</th>\n",
       "      <th>ptratio</th>\n",
       "      <th>black</th>\n",
       "      <th>lstat</th>\n",
       "      <th>medv</th>\n",
       "    </tr>\n",
       "  </thead>\n",
       "  <tbody>\n",
       "    <tr>\n",
       "      <th>0</th>\n",
       "      <td>0.00632</td>\n",
       "      <td>18.0</td>\n",
       "      <td>2.31</td>\n",
       "      <td>0</td>\n",
       "      <td>0.538</td>\n",
       "      <td>6.575</td>\n",
       "      <td>65.2</td>\n",
       "      <td>4.0900</td>\n",
       "      <td>1</td>\n",
       "      <td>296.0</td>\n",
       "      <td>15.3</td>\n",
       "      <td>396.90</td>\n",
       "      <td>4.98</td>\n",
       "      <td>24.0</td>\n",
       "    </tr>\n",
       "    <tr>\n",
       "      <th>1</th>\n",
       "      <td>0.02731</td>\n",
       "      <td>0.0</td>\n",
       "      <td>7.07</td>\n",
       "      <td>0</td>\n",
       "      <td>0.469</td>\n",
       "      <td>6.421</td>\n",
       "      <td>78.9</td>\n",
       "      <td>4.9671</td>\n",
       "      <td>2</td>\n",
       "      <td>242.0</td>\n",
       "      <td>17.8</td>\n",
       "      <td>396.90</td>\n",
       "      <td>9.14</td>\n",
       "      <td>21.6</td>\n",
       "    </tr>\n",
       "    <tr>\n",
       "      <th>2</th>\n",
       "      <td>0.02729</td>\n",
       "      <td>0.0</td>\n",
       "      <td>7.07</td>\n",
       "      <td>0</td>\n",
       "      <td>0.469</td>\n",
       "      <td>7.185</td>\n",
       "      <td>61.1</td>\n",
       "      <td>4.9671</td>\n",
       "      <td>2</td>\n",
       "      <td>242.0</td>\n",
       "      <td>17.8</td>\n",
       "      <td>392.83</td>\n",
       "      <td>4.03</td>\n",
       "      <td>34.7</td>\n",
       "    </tr>\n",
       "    <tr>\n",
       "      <th>3</th>\n",
       "      <td>0.03237</td>\n",
       "      <td>0.0</td>\n",
       "      <td>2.18</td>\n",
       "      <td>0</td>\n",
       "      <td>0.458</td>\n",
       "      <td>6.998</td>\n",
       "      <td>45.8</td>\n",
       "      <td>6.0622</td>\n",
       "      <td>3</td>\n",
       "      <td>222.0</td>\n",
       "      <td>18.7</td>\n",
       "      <td>394.63</td>\n",
       "      <td>2.94</td>\n",
       "      <td>33.4</td>\n",
       "    </tr>\n",
       "    <tr>\n",
       "      <th>4</th>\n",
       "      <td>0.06905</td>\n",
       "      <td>0.0</td>\n",
       "      <td>2.18</td>\n",
       "      <td>0</td>\n",
       "      <td>0.458</td>\n",
       "      <td>7.147</td>\n",
       "      <td>54.2</td>\n",
       "      <td>6.0622</td>\n",
       "      <td>3</td>\n",
       "      <td>222.0</td>\n",
       "      <td>18.7</td>\n",
       "      <td>396.90</td>\n",
       "      <td>5.33</td>\n",
       "      <td>36.2</td>\n",
       "    </tr>\n",
       "  </tbody>\n",
       "</table>\n",
       "</div>"
      ],
      "text/plain": [
       "      crim    zn  indus  chas    nox     rm   age     dis  rad    tax  \\\n",
       "0  0.00632  18.0   2.31     0  0.538  6.575  65.2  4.0900    1  296.0   \n",
       "1  0.02731   0.0   7.07     0  0.469  6.421  78.9  4.9671    2  242.0   \n",
       "2  0.02729   0.0   7.07     0  0.469  7.185  61.1  4.9671    2  242.0   \n",
       "3  0.03237   0.0   2.18     0  0.458  6.998  45.8  6.0622    3  222.0   \n",
       "4  0.06905   0.0   2.18     0  0.458  7.147  54.2  6.0622    3  222.0   \n",
       "\n",
       "   ptratio   black  lstat  medv  \n",
       "0     15.3  396.90   4.98  24.0  \n",
       "1     17.8  396.90   9.14  21.6  \n",
       "2     17.8  392.83   4.03  34.7  \n",
       "3     18.7  394.63   2.94  33.4  \n",
       "4     18.7  396.90   5.33  36.2  "
      ]
     },
     "execution_count": 5,
     "metadata": {},
     "output_type": "execute_result"
    }
   ],
   "source": [
    "dataset.head() "
   ]
  },
  {
   "cell_type": "code",
   "execution_count": 23,
   "metadata": {},
   "outputs": [],
   "source": [
    "#dataset.summary"
   ]
  },
  {
   "cell_type": "markdown",
   "metadata": {},
   "source": [
    "#### To Scale value 0 to 1 apply preprocessing in Mms"
   ]
  },
  {
   "cell_type": "code",
   "execution_count": 6,
   "metadata": {},
   "outputs": [
    {
     "name": "stdout",
     "output_type": "stream",
     "text": [
      "[[0.00000000e+00 1.80000000e-01 6.78152493e-02 ... 1.00000000e+00\n",
      "  8.96799117e-02 4.22222222e-01]\n",
      " [2.35922539e-04 0.00000000e+00 2.42302053e-01 ... 1.00000000e+00\n",
      "  2.04470199e-01 3.68888889e-01]\n",
      " [2.35697744e-04 0.00000000e+00 2.42302053e-01 ... 9.89737254e-01\n",
      "  6.34657837e-02 6.60000000e-01]\n",
      " ...\n",
      " [6.11892474e-04 0.00000000e+00 4.20454545e-01 ... 1.00000000e+00\n",
      "  1.07891832e-01 4.20000000e-01]\n",
      " [1.16072990e-03 0.00000000e+00 4.20454545e-01 ... 9.91300620e-01\n",
      "  1.31070640e-01 3.77777778e-01]\n",
      " [4.61841693e-04 0.00000000e+00 4.20454545e-01 ... 1.00000000e+00\n",
      "  1.69701987e-01 1.53333333e-01]]\n"
     ]
    }
   ],
   "source": [
    "from sklearn.preprocessing import MinMaxScaler\n",
    "\n",
    "scaler = MinMaxScaler() \n",
    "dataset = scaler.fit_transform(dataset) \n",
    "print(dataset) \n",
    "dataset = pd.DataFrame(data=dataset,columns=BHNames) "
   ]
  },
  {
   "cell_type": "markdown",
   "metadata": {},
   "source": [
    "#### Divide the data into dependent and inependent variable"
   ]
  },
  {
   "cell_type": "code",
   "execution_count": 7,
   "metadata": {},
   "outputs": [],
   "source": [
    "from sklearn.model_selection import train_test_split "
   ]
  },
  {
   "cell_type": "code",
   "execution_count": 8,
   "metadata": {},
   "outputs": [
    {
     "name": "stdout",
     "output_type": "stream",
     "text": [
      "         crim    zn     indus  chas       nox        rm       age       dis  \\\n",
      "0    0.000000  0.18  0.067815   0.0  0.314815  0.577505  0.641607  0.269203   \n",
      "1    0.000236  0.00  0.242302   0.0  0.172840  0.547998  0.782698  0.348962   \n",
      "2    0.000236  0.00  0.242302   0.0  0.172840  0.694386  0.599382  0.348962   \n",
      "3    0.000293  0.00  0.063050   0.0  0.150206  0.658555  0.441813  0.448545   \n",
      "4    0.000705  0.00  0.063050   0.0  0.150206  0.687105  0.528321  0.448545   \n",
      "..        ...   ...       ...   ...       ...       ...       ...       ...   \n",
      "501  0.000633  0.00  0.420455   0.0  0.386831  0.580954  0.681771  0.122671   \n",
      "502  0.000438  0.00  0.420455   0.0  0.386831  0.490324  0.760041  0.105293   \n",
      "503  0.000612  0.00  0.420455   0.0  0.386831  0.654340  0.907312  0.094381   \n",
      "504  0.001161  0.00  0.420455   0.0  0.386831  0.619467  0.889804  0.114514   \n",
      "505  0.000462  0.00  0.420455   0.0  0.386831  0.473079  0.802266  0.125072   \n",
      "\n",
      "          rad       tax   ptratio     black     lstat  \n",
      "0    0.000000  0.208015  0.287234  1.000000  0.089680  \n",
      "1    0.043478  0.104962  0.553191  1.000000  0.204470  \n",
      "2    0.043478  0.104962  0.553191  0.989737  0.063466  \n",
      "3    0.086957  0.066794  0.648936  0.994276  0.033389  \n",
      "4    0.086957  0.066794  0.648936  1.000000  0.099338  \n",
      "..        ...       ...       ...       ...       ...  \n",
      "501  0.000000  0.164122  0.893617  0.987619  0.219095  \n",
      "502  0.000000  0.164122  0.893617  1.000000  0.202815  \n",
      "503  0.000000  0.164122  0.893617  1.000000  0.107892  \n",
      "504  0.000000  0.164122  0.893617  0.991301  0.131071  \n",
      "505  0.000000  0.164122  0.893617  1.000000  0.169702  \n",
      "\n",
      "[506 rows x 13 columns]\n",
      "\n",
      "\n",
      "Shape of x is = (506, 13)\n"
     ]
    }
   ],
   "source": [
    "x = dataset.drop(labels='medv',axis=1) \n",
    "print(x)\n",
    "print(\"\\n\") \n",
    "print(\"Shape of x is = {}\".format(x.shape)) "
   ]
  },
  {
   "cell_type": "code",
   "execution_count": 9,
   "metadata": {},
   "outputs": [
    {
     "name": "stdout",
     "output_type": "stream",
     "text": [
      "0      0.422222\n",
      "1      0.368889\n",
      "2      0.660000\n",
      "3      0.631111\n",
      "4      0.693333\n",
      "         ...   \n",
      "501    0.386667\n",
      "502    0.346667\n",
      "503    0.420000\n",
      "504    0.377778\n",
      "505    0.153333\n",
      "Name: medv, Length: 506, dtype: float64\n",
      "\n",
      "\n",
      "y shape is = (506,)\n"
     ]
    }
   ],
   "source": [
    "y = dataset['medv'] \n",
    "\n",
    "print(y)\n",
    "print(\"\\n\")\n",
    "print('y shape is = {}'.format(y.shape)) "
   ]
  },
  {
   "cell_type": "markdown",
   "metadata": {},
   "source": [
    "Now we scale our data and use lesso regression on that data"
   ]
  },
  {
   "cell_type": "code",
   "execution_count": 10,
   "metadata": {},
   "outputs": [],
   "source": [
    "from sklearn import linear_model "
   ]
  },
  {
   "cell_type": "code",
   "execution_count": 11,
   "metadata": {},
   "outputs": [
    {
     "name": "stdout",
     "output_type": "stream",
     "text": [
      "Index(['crim', 'zn', 'indus', 'chas', 'nox', 'rm', 'age', 'dis', 'rad', 'tax',\n",
      "       'ptratio', 'black', 'lstat'],\n",
      "      dtype='object')\n"
     ]
    }
   ],
   "source": [
    "names= dataset.drop('medv',axis=1).columns\n",
    "print(names) "
   ]
  },
  {
   "cell_type": "code",
   "execution_count": 12,
   "metadata": {},
   "outputs": [],
   "source": [
    "lasso = linear_model.Lasso(alpha=0.2) "
   ]
  },
  {
   "cell_type": "code",
   "execution_count": 16,
   "metadata": {},
   "outputs": [
    {
     "name": "stdout",
     "output_type": "stream",
     "text": [
      "lasso is = Lasso(alpha=0.2)\n"
     ]
    }
   ],
   "source": [
    "print('lasso is = {}'.format(lasso))"
   ]
  },
  {
   "cell_type": "code",
   "execution_count": 13,
   "metadata": {},
   "outputs": [],
   "source": [
    "lasso_coef = lasso.fit(x,y).coef_ "
   ]
  },
  {
   "cell_type": "code",
   "execution_count": 17,
   "metadata": {},
   "outputs": [
    {
     "name": "stdout",
     "output_type": "stream",
     "text": [
      "lasso_coef is = [-0.  0. -0.  0. -0.  0. -0.  0. -0. -0. -0.  0. -0.]\n"
     ]
    }
   ],
   "source": [
    "print('lasso_coef is = {}'.format(lasso_coef)) "
   ]
  },
  {
   "cell_type": "code",
   "execution_count": 14,
   "metadata": {},
   "outputs": [],
   "source": [
    "import matplotlib.pyplot as plt "
   ]
  },
  {
   "cell_type": "code",
   "execution_count": 24,
   "metadata": {},
   "outputs": [
    {
     "data": {
      "image/png": "[encoded data removed]",
      "text/plain": [
       "<Figure size 432x288 with 1 Axes>"
      ]
     },
     "metadata": {
      "needs_background": "light"
     },
     "output_type": "display_data"
    }
   ],
   "source": [
    "plt.plot(range(len(names)), lasso_coef)\n",
    "plt.xticks(range(len(names)), names, rotation=60)\n",
    "plt.ylabel('Coefficent') \n",
    "plt.show() "
   ]
  },
  {
   "cell_type": "markdown",
   "metadata": {},
   "source": [
    "#### For Ridge"
   ]
  },
  {
   "cell_type": "code",
   "execution_count": 18,
   "metadata": {},
   "outputs": [],
   "source": [
    "from sklearn.preprocessing import StandardScaler "
   ]
  },
  {
   "cell_type": "code",
   "execution_count": 20,
   "metadata": {},
   "outputs": [
    {
     "data": {
      "text/plain": [
       "array([-0.02058802,  0.02396651,  0.00302386,  0.01516523, -0.04558018,\n",
       "        0.05946605,  0.00040399, -0.06885924,  0.05883896, -0.04584857,\n",
       "       -0.04575427,  0.01887077, -0.08313364])"
      ]
     },
     "execution_count": 20,
     "metadata": {},
     "output_type": "execute_result"
    }
   ],
   "source": [
    "scaler = StandardScaler() \n",
    "x_std = scaler.fit_transform(x)\n",
    "\n",
    "# Call to Ridge\n",
    "from sklearn.linear_model import Ridge\n",
    "ridge = Ridge(alpha=0.2)\n",
    "model = ridge.fit(x_std,y).coef_ \n",
    "model "
   ]
  }
 ],
 "metadata": {
  "kernelspec": {
   "display_name": "Python 3",
   "language": "python",
   "name": "python3"
  },
  "language_info": {
   "codemirror_mode": {
    "name": "ipython",
    "version": 3
   },
   "file_extension": ".py",
   "mimetype": "text/x-python",
   "name": "python",
   "nbconvert_exporter": "python",
   "pygments_lexer": "ipython3",
   "version": "3.7.6"
  }
 },
 "nbformat": 4,
 "nbformat_minor": 4
}
